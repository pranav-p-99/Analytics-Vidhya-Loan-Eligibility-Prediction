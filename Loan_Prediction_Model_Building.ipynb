{
  "nbformat": 4,
  "nbformat_minor": 0,
  "metadata": {
    "colab": {
      "name": "Loan Prediction Model Building.ipynb",
      "provenance": [],
      "collapsed_sections": []
    },
    "kernelspec": {
      "name": "python3",
      "display_name": "Python 3"
    },
    "language_info": {
      "name": "python"
    }
  },
  "cells": [
    {
      "cell_type": "code",
      "metadata": {
        "colab": {
          "base_uri": "https://localhost:8080/"
        },
        "id": "PAX-ObWS2FHL",
        "outputId": "e1098065-cd10-4ab7-a5a1-d5e82819b13b"
      },
      "source": [
        "%pip install optuna\n",
        "%pip install bayesian-optimization"
      ],
      "execution_count": 1,
      "outputs": [
        {
          "output_type": "stream",
          "text": [
            "Collecting optuna\n",
            "\u001b[?25l  Downloading https://files.pythonhosted.org/packages/1a/18/b49ca91cf592747e19f2d333c2a86cd7c81895b922a5a09adf6335471576/optuna-2.8.0-py3-none-any.whl (301kB)\n",
            "\r\u001b[K     |█                               | 10kB 11.8MB/s eta 0:00:01\r\u001b[K     |██▏                             | 20kB 16.0MB/s eta 0:00:01\r\u001b[K     |███▎                            | 30kB 19.6MB/s eta 0:00:01\r\u001b[K     |████▍                           | 40kB 22.6MB/s eta 0:00:01\r\u001b[K     |█████▍                          | 51kB 25.0MB/s eta 0:00:01\r\u001b[K     |██████▌                         | 61kB 25.1MB/s eta 0:00:01\r\u001b[K     |███████▋                        | 71kB 26.2MB/s eta 0:00:01\r\u001b[K     |████████▊                       | 81kB 26.2MB/s eta 0:00:01\r\u001b[K     |█████████▊                      | 92kB 22.6MB/s eta 0:00:01\r\u001b[K     |██████████▉                     | 102kB 23.3MB/s eta 0:00:01\r\u001b[K     |████████████                    | 112kB 23.3MB/s eta 0:00:01\r\u001b[K     |█████████████                   | 122kB 23.3MB/s eta 0:00:01\r\u001b[K     |██████████████                  | 133kB 23.3MB/s eta 0:00:01\r\u001b[K     |███████████████▏                | 143kB 23.3MB/s eta 0:00:01\r\u001b[K     |████████████████▎               | 153kB 23.3MB/s eta 0:00:01\r\u001b[K     |█████████████████▍              | 163kB 23.3MB/s eta 0:00:01\r\u001b[K     |██████████████████▌             | 174kB 23.3MB/s eta 0:00:01\r\u001b[K     |███████████████████▌            | 184kB 23.3MB/s eta 0:00:01\r\u001b[K     |████████████████████▋           | 194kB 23.3MB/s eta 0:00:01\r\u001b[K     |█████████████████████▊          | 204kB 23.3MB/s eta 0:00:01\r\u001b[K     |██████████████████████▉         | 215kB 23.3MB/s eta 0:00:01\r\u001b[K     |███████████████████████▉        | 225kB 23.3MB/s eta 0:00:01\r\u001b[K     |█████████████████████████       | 235kB 23.3MB/s eta 0:00:01\r\u001b[K     |██████████████████████████      | 245kB 23.3MB/s eta 0:00:01\r\u001b[K     |███████████████████████████▏    | 256kB 23.3MB/s eta 0:00:01\r\u001b[K     |████████████████████████████▏   | 266kB 23.3MB/s eta 0:00:01\r\u001b[K     |█████████████████████████████▎  | 276kB 23.3MB/s eta 0:00:01\r\u001b[K     |██████████████████████████████▍ | 286kB 23.3MB/s eta 0:00:01\r\u001b[K     |███████████████████████████████▌| 296kB 23.3MB/s eta 0:00:01\r\u001b[K     |████████████████████████████████| 307kB 23.3MB/s \n",
            "\u001b[?25hRequirement already satisfied: packaging>=20.0 in /usr/local/lib/python3.7/dist-packages (from optuna) (20.9)\n",
            "Requirement already satisfied: scipy!=1.4.0 in /usr/local/lib/python3.7/dist-packages (from optuna) (1.4.1)\n",
            "Requirement already satisfied: tqdm in /usr/local/lib/python3.7/dist-packages (from optuna) (4.41.1)\n",
            "Collecting cmaes>=0.8.2\n",
            "  Downloading https://files.pythonhosted.org/packages/01/1f/43b01223a0366171f474320c6e966c39a11587287f098a5f09809b45e05f/cmaes-0.8.2-py3-none-any.whl\n",
            "Collecting cliff\n",
            "\u001b[?25l  Downloading https://files.pythonhosted.org/packages/87/11/aea1cacbd4cf8262809c4d6f95dcb3f2802594de1f51c5bd454d69bf15c5/cliff-3.8.0-py3-none-any.whl (80kB)\n",
            "\u001b[K     |████████████████████████████████| 81kB 9.4MB/s \n",
            "\u001b[?25hCollecting colorlog\n",
            "  Downloading https://files.pythonhosted.org/packages/32/e6/e9ddc6fa1104fda718338b341e4b3dc31cd8039ab29e52fc73b508515361/colorlog-5.0.1-py2.py3-none-any.whl\n",
            "Requirement already satisfied: numpy in /usr/local/lib/python3.7/dist-packages (from optuna) (1.19.5)\n",
            "Collecting alembic\n",
            "\u001b[?25l  Downloading https://files.pythonhosted.org/packages/d5/80/ef186e599a57d0e4cb78fc76e0bfc2e6953fa9716b2a5cf2de0117ed8eb5/alembic-1.6.5-py2.py3-none-any.whl (164kB)\n",
            "\u001b[K     |████████████████████████████████| 174kB 41.1MB/s \n",
            "\u001b[?25hRequirement already satisfied: sqlalchemy>=1.1.0 in /usr/local/lib/python3.7/dist-packages (from optuna) (1.4.18)\n",
            "Requirement already satisfied: pyparsing>=2.0.2 in /usr/local/lib/python3.7/dist-packages (from packaging>=20.0->optuna) (2.4.7)\n",
            "Collecting pbr!=2.1.0,>=2.0.0\n",
            "\u001b[?25l  Downloading https://files.pythonhosted.org/packages/18/e0/1d4702dd81121d04a477c272d47ee5b6bc970d1a0990b11befa275c55cf2/pbr-5.6.0-py2.py3-none-any.whl (111kB)\n",
            "\u001b[K     |████████████████████████████████| 112kB 45.5MB/s \n",
            "\u001b[?25hRequirement already satisfied: PrettyTable>=0.7.2 in /usr/local/lib/python3.7/dist-packages (from cliff->optuna) (2.1.0)\n",
            "Collecting cmd2>=1.0.0\n",
            "\u001b[?25l  Downloading https://files.pythonhosted.org/packages/e3/6a/e929ec70ca05c5962f6541ef29fb9c207dd41f0f2333680fa39f44fa4357/cmd2-2.1.1-py3-none-any.whl (140kB)\n",
            "\u001b[K     |████████████████████████████████| 143kB 44.2MB/s \n",
            "\u001b[?25hCollecting stevedore>=2.0.1\n",
            "\u001b[?25l  Downloading https://files.pythonhosted.org/packages/d4/49/b602307aeac3df3384ff1fcd05da9c0376c622a6c48bb5325f28ab165b57/stevedore-3.3.0-py3-none-any.whl (49kB)\n",
            "\u001b[K     |████████████████████████████████| 51kB 7.1MB/s \n",
            "\u001b[?25hRequirement already satisfied: PyYAML>=3.12 in /usr/local/lib/python3.7/dist-packages (from cliff->optuna) (3.13)\n",
            "Collecting Mako\n",
            "\u001b[?25l  Downloading https://files.pythonhosted.org/packages/f3/54/dbc07fbb20865d3b78fdb7cf7fa713e2cba4f87f71100074ef2dc9f9d1f7/Mako-1.1.4-py2.py3-none-any.whl (75kB)\n",
            "\u001b[K     |████████████████████████████████| 81kB 10.1MB/s \n",
            "\u001b[?25hRequirement already satisfied: python-dateutil in /usr/local/lib/python3.7/dist-packages (from alembic->optuna) (2.8.1)\n",
            "Collecting python-editor>=0.3\n",
            "  Downloading https://files.pythonhosted.org/packages/c6/d3/201fc3abe391bbae6606e6f1d598c15d367033332bd54352b12f35513717/python_editor-1.0.4-py3-none-any.whl\n",
            "Requirement already satisfied: greenlet!=0.4.17; python_version >= \"3\" in /usr/local/lib/python3.7/dist-packages (from sqlalchemy>=1.1.0->optuna) (1.1.0)\n",
            "Requirement already satisfied: importlib-metadata; python_version < \"3.8\" in /usr/local/lib/python3.7/dist-packages (from sqlalchemy>=1.1.0->optuna) (4.5.0)\n",
            "Requirement already satisfied: wcwidth in /usr/local/lib/python3.7/dist-packages (from PrettyTable>=0.7.2->cliff->optuna) (0.2.5)\n",
            "Collecting pyperclip>=1.6\n",
            "  Downloading https://files.pythonhosted.org/packages/a7/2c/4c64579f847bd5d539803c8b909e54ba087a79d01bb3aba433a95879a6c5/pyperclip-1.8.2.tar.gz\n",
            "Requirement already satisfied: typing-extensions; python_version < \"3.8\" in /usr/local/lib/python3.7/dist-packages (from cmd2>=1.0.0->cliff->optuna) (3.7.4.3)\n",
            "Requirement already satisfied: attrs>=16.3.0 in /usr/local/lib/python3.7/dist-packages (from cmd2>=1.0.0->cliff->optuna) (21.2.0)\n",
            "Collecting colorama>=0.3.7\n",
            "  Downloading https://files.pythonhosted.org/packages/44/98/5b86278fbbf250d239ae0ecb724f8572af1c91f4a11edf4d36a206189440/colorama-0.4.4-py2.py3-none-any.whl\n",
            "Requirement already satisfied: MarkupSafe>=0.9.2 in /usr/local/lib/python3.7/dist-packages (from Mako->alembic->optuna) (2.0.1)\n",
            "Requirement already satisfied: six>=1.5 in /usr/local/lib/python3.7/dist-packages (from python-dateutil->alembic->optuna) (1.15.0)\n",
            "Requirement already satisfied: zipp>=0.5 in /usr/local/lib/python3.7/dist-packages (from importlib-metadata; python_version < \"3.8\"->sqlalchemy>=1.1.0->optuna) (3.4.1)\n",
            "Building wheels for collected packages: pyperclip\n",
            "  Building wheel for pyperclip (setup.py) ... \u001b[?25l\u001b[?25hdone\n",
            "  Created wheel for pyperclip: filename=pyperclip-1.8.2-cp37-none-any.whl size=11136 sha256=69f1395d6057c442b39b7484ae5b94d34ab0845d20d414990507267fae5f073a\n",
            "  Stored in directory: /root/.cache/pip/wheels/25/af/b8/3407109267803f4015e1ee2ff23be0c8c19ce4008665931ee1\n",
            "Successfully built pyperclip\n",
            "Installing collected packages: cmaes, pbr, pyperclip, colorama, cmd2, stevedore, cliff, colorlog, Mako, python-editor, alembic, optuna\n",
            "Successfully installed Mako-1.1.4 alembic-1.6.5 cliff-3.8.0 cmaes-0.8.2 cmd2-2.1.1 colorama-0.4.4 colorlog-5.0.1 optuna-2.8.0 pbr-5.6.0 pyperclip-1.8.2 python-editor-1.0.4 stevedore-3.3.0\n",
            "Collecting bayesian-optimization\n",
            "  Downloading https://files.pythonhosted.org/packages/bb/7a/fd8059a3881d3ab37ac8f72f56b73937a14e8bb14a9733e68cc8b17dbe3c/bayesian-optimization-1.2.0.tar.gz\n",
            "Requirement already satisfied: numpy>=1.9.0 in /usr/local/lib/python3.7/dist-packages (from bayesian-optimization) (1.19.5)\n",
            "Requirement already satisfied: scipy>=0.14.0 in /usr/local/lib/python3.7/dist-packages (from bayesian-optimization) (1.4.1)\n",
            "Requirement already satisfied: scikit-learn>=0.18.0 in /usr/local/lib/python3.7/dist-packages (from bayesian-optimization) (0.22.2.post1)\n",
            "Requirement already satisfied: joblib>=0.11 in /usr/local/lib/python3.7/dist-packages (from scikit-learn>=0.18.0->bayesian-optimization) (1.0.1)\n",
            "Building wheels for collected packages: bayesian-optimization\n",
            "  Building wheel for bayesian-optimization (setup.py) ... \u001b[?25l\u001b[?25hdone\n",
            "  Created wheel for bayesian-optimization: filename=bayesian_optimization-1.2.0-cp37-none-any.whl size=11686 sha256=d5a17cba225fff91e08780c0d69e3561a9286adc9986982b71d81b1afb025201\n",
            "  Stored in directory: /root/.cache/pip/wheels/5a/56/ae/e0e3c1fc1954dc3ec712e2df547235ed072b448094d8f94aec\n",
            "Successfully built bayesian-optimization\n",
            "Installing collected packages: bayesian-optimization\n",
            "Successfully installed bayesian-optimization-1.2.0\n"
          ],
          "name": "stdout"
        }
      ]
    },
    {
      "cell_type": "code",
      "metadata": {
        "id": "doa2lxICvCGw",
        "colab": {
          "base_uri": "https://localhost:8080/"
        },
        "outputId": "fe4e1b1e-fb2c-4f5a-a74c-ab3feaae944c"
      },
      "source": [
        "import numpy as np\n",
        "import pandas as pd\n",
        "from imblearn.combine import SMOTEENN \n",
        "from imblearn.over_sampling import SMOTE\n",
        "from imblearn.under_sampling import RandomUnderSampler\n",
        "from sklearn.model_selection import StratifiedKFold,KFold,train_test_split\n",
        "from sklearn.metrics import classification_report,confusion_matrix,accuracy_score,precision_score,recall_score,roc_auc_score,f1_score\n",
        "from sklearn.ensemble import RandomForestClassifier,ExtraTreesClassifier,StackingClassifier,VotingClassifier,BaggingClassifier\n",
        "from sklearn.linear_model import LogisticRegression\n",
        "from sklearn.tree import DecisionTreeClassifier\n",
        "from xgboost import XGBClassifier\n",
        "import xgboost as xgb\n",
        "import optuna\n",
        "from bayes_opt import BayesianOptimization\n",
        "from functools import partial\n",
        "import pickle\n",
        "import warnings\n",
        "warnings.filterwarnings('ignore')"
      ],
      "execution_count": 2,
      "outputs": [
        {
          "output_type": "stream",
          "text": [
            "/usr/local/lib/python3.7/dist-packages/sklearn/externals/six.py:31: FutureWarning: The module is deprecated in version 0.21 and will be removed in version 0.23 since we've dropped support for Python 2.7. Please rely on the official version of six (https://pypi.org/project/six/).\n",
            "  \"(https://pypi.org/project/six/).\", FutureWarning)\n",
            "/usr/local/lib/python3.7/dist-packages/sklearn/utils/deprecation.py:144: FutureWarning: The sklearn.neighbors.base module is  deprecated in version 0.22 and will be removed in version 0.24. The corresponding classes / functions should instead be imported from sklearn.neighbors. Anything that cannot be imported from sklearn.neighbors is now part of the private API.\n",
            "  warnings.warn(message, FutureWarning)\n"
          ],
          "name": "stderr"
        }
      ]
    },
    {
      "cell_type": "code",
      "metadata": {
        "id": "6hoIf6cUZ-EN"
      },
      "source": [
        "def fill_gender(cols):\n",
        "    gender = cols[0]\n",
        "    married = cols[1]\n",
        "    if pd.isnull(gender):\n",
        "        if pd.isnull(married) or married == 'Yes':\n",
        "            return 'Male'\n",
        "        else:\n",
        "            return 'Female'\n",
        "    else:\n",
        "        return gender\n",
        "\n",
        "def fill_married(cols):\n",
        "    gender = cols[0]\n",
        "    married = cols[1]\n",
        "    if pd.isnull(married):\n",
        "        if pd.isnull(gender) or gender == 'Male':\n",
        "            return 'Yes'\n",
        "        else:\n",
        "            return 'No'\n",
        "    else:\n",
        "        return married\n",
        "\n",
        "def fill_loan_amount(cols):\n",
        "    pa = cols[0]\n",
        "    edu = cols[1]\n",
        "    se = cols[2]\n",
        "    la = cols[3]\n",
        "    temp = df.groupby(['Property_Area','Education','Self_Employed'])['LoanAmount'].median()\n",
        "    temp = temp.to_dict()\n",
        "    if pd.isna(la) and (pa,edu,se) in temp:\n",
        "        return temp[(pa,edu,se)]\n",
        "    else:\n",
        "        return la\n",
        "\n",
        "def coaplicant_share(cols):\n",
        "    x = cols[0]\n",
        "    y = cols[1]\n",
        "    if y == 0:\n",
        "        return 'No Share'\n",
        "    elif x == y :\n",
        "        return 'Same Share'\n",
        "    elif x > y and y >= x * 0.85 :\n",
        "        return 'Lesser But Similar Share'\n",
        "    elif y > x and y <= x * 1.15:\n",
        "        return 'More But Similar Share'\n",
        "    elif x > y :\n",
        "        return 'Lesser Share'\n",
        "    else:\n",
        "        return 'More Share'\n",
        "\n",
        "def coaplicant_share_similar(cols):\n",
        "    x = cols[0]\n",
        "    y = cols[1]\n",
        "    if x == y or (x > y and y >= x * 0.85) or (y > x and y <= x * 1.15):\n",
        "        return 'Similar'\n",
        "    else:\n",
        "        return 'Not Similar'\n",
        "\n",
        "def encode(df,test):\n",
        "    cols = ['Gender', 'Married', 'Education','Self_Employed','Property_Area', \n",
        "            'Coapplicant_Share_Similarity','Has_Dependents']\n",
        "    if not test:\n",
        "        df.Loan_Status = df.Loan_Status.apply(lambda x : 1 if x == 'Y' else 0)\n",
        "    df.Married = df.Married.apply(lambda x : 'Married' if x == 'Yes' else 'Not Married')\n",
        "    df.Self_Employed = df.Self_Employed.apply(lambda x : 'Self Employed' if x == 'Yes' else 'Not Self Employed')\n",
        "    df.Has_Dependents = df.Has_Dependents.apply(lambda x : 'Has Dependents' if x == 'Yes' else 'No Dependents')\n",
        "    df = df.drop(['Loan_ID','Coapplicant_Share','Has_Coapplicant','Dependents'],axis=1)\n",
        "    for col in cols :\n",
        "        temp = pd.get_dummies(df[col],drop_first=True)\n",
        "        df = pd.concat([df,temp],axis=1)\n",
        "    df = df.drop(cols,axis=1)\n",
        "    return df\n",
        "\n",
        "def remove_outliers(df,q=0.99):\n",
        "    df = df[df.ApplicantIncome < df.ApplicantIncome.quantile(q)]\n",
        "    df = df[df.CoapplicantIncome < df.CoapplicantIncome.quantile(q)]\n",
        "    df = df[df.LoanAmount < df.LoanAmount.quantile(q)]\n",
        "    return df\n",
        "\n",
        "def balance_data(X , Y , balancer) :\n",
        "  features_balanced, labels_balanced = balancer.fit_resample(X, Y)\n",
        "  return features_balanced, labels_balanced\n",
        "\n",
        "def pre_process(df,test=False,balance=False,balancer=RandomUnderSampler()):\n",
        "    # df['Gender'] = df[['Gender','Married']].apply(fill_gender,axis=1)\n",
        "    # df['Married'] = df[['Gender','Married']].apply(fill_married,axis=1)\n",
        "    df['Gender'] = df['Gender'].fillna(df.Gender.mode()[0])\n",
        "    df['Married'] = df['Married'].fillna(df.Married.mode()[0])\n",
        "    df['Dependents'] = df['Dependents'].fillna(df.Dependents.mode()[0])\n",
        "    df['Self_Employed'] = df['Self_Employed'].fillna(df.Self_Employed.mode()[0])\n",
        "    df['Loan_Amount_Term'] = df['Loan_Amount_Term'].fillna(df.Loan_Amount_Term.mode()[0])\n",
        "    df['Credit_History'] = df['Credit_History'].fillna(df.Credit_History.mode()[0])\n",
        "    # df['LoanAmount'] = df[['Property_Area','Education','Self_Employed','LoanAmount']].apply(fill_loan_amount,axis=1)\n",
        "    df['LoanAmount'] = df['LoanAmount'].fillna(df.LoanAmount.median())\n",
        "    df['Has_Coapplicant'] = df.CoapplicantIncome.map(lambda x : 'Yes' if x != 0 else 'No')\n",
        "    df['Coapplicant_Share'] = df[['ApplicantIncome','CoapplicantIncome']].apply(coaplicant_share,axis=1)\n",
        "    df['Coapplicant_Share_Similarity'] = df[['ApplicantIncome','CoapplicantIncome']].apply(coaplicant_share_similar,axis=1)\n",
        "    df['Has_Dependents'] = df['Dependents'].map(lambda x : 'No' if str(x) == '0' else 'Yes')\n",
        "    df = encode(df,test)\n",
        "    if not test:\n",
        "        df = remove_outliers(df,q=0.95)\n",
        "    X = df.drop('Loan_Status',axis=1)\n",
        "    cols = X.columns\n",
        "    X = X.values\n",
        "    Y = df[['Loan_Status']].values\n",
        "    if not test and balance :\n",
        "        X,Y = balance_data(X , Y , balancer)\n",
        "    return X,Y,cols"
      ],
      "execution_count": 3,
      "outputs": []
    },
    {
      "cell_type": "code",
      "metadata": {
        "id": "FtxqjPZz34QQ"
      },
      "source": [
        "df = pd.read_csv('train.csv')\n",
        "X,Y,cols = pre_process(df,balance=True,balancer=SMOTEENN())"
      ],
      "execution_count": 4,
      "outputs": []
    },
    {
      "cell_type": "code",
      "metadata": {
        "id": "-5CdhNJE4peh"
      },
      "source": [
        "def get_confusion_matrix(model,X,Y) :\n",
        "    x_train,x_test,y_train,y_test = train_test_split(X,Y,random_state=101,test_size=0.2)\n",
        "    model.fit(x_train,y_train)\n",
        "    y_pred = model.predict(x_test)\n",
        "    print('Metrics')\n",
        "    print(\"*\" * 50)\n",
        "    print(f'Accuracy        - {str(np.round(accuracy_score(y_pred,y_test) * 100 , 2))}')\n",
        "    print(f'Precision       - {str(np.round(precision_score(y_pred,y_test) * 100 , 2))}')\n",
        "    print(f'Recall          - {str(np.round(recall_score(y_pred,y_test) * 100 , 2))}')\n",
        "    print(f'F1 Score        - {str(np.round(f1_score(y_pred,y_test) * 100 , 2))}')\n",
        "    print(f'ROC AUC Score   - {str(np.round(roc_auc_score(y_pred,y_test) * 100 , 2))}')\n",
        "    print('\\nConfusion Matrix')\n",
        "    print(\"*\" * 50)\n",
        "    print(confusion_matrix(y_test,y_pred))\n",
        "    print()\n",
        "\n",
        "def evaluate_model(model,X,Y):\n",
        "    accuracy = []\n",
        "    precision = []\n",
        "    recall = []\n",
        "    f1 = []\n",
        "    rocauc = []\n",
        "    skf = StratifiedKFold(n_splits=10)\n",
        "    for train_index, test_index in skf.split(X, Y):\n",
        "        x_train, x_test = X[train_index], X[test_index]\n",
        "        y_train, y_test = Y[train_index], Y[test_index]\n",
        "        model.fit(x_train,y_train)\n",
        "        y_pred = model.predict(x_test)\n",
        "        accuracy.append(accuracy_score(y_pred,y_test))\n",
        "        precision.append(precision_score(y_pred,y_test))\n",
        "        recall.append(recall_score(y_pred,y_test))\n",
        "        f1.append(f1_score(y_pred,y_test))\n",
        "        rocauc.append(roc_auc_score(y_pred,y_test))\n",
        "    get_confusion_matrix(model,X,Y)\n",
        "    print('\\nCross Validation Metrics')\n",
        "    print(\"*\" * 50)\n",
        "    print(f'Accuracy        - {str(np.round(np.mean(accuracy) * 100 , 2))}')\n",
        "    print(f'Precision       - {str(np.round(np.mean(precision) * 100 , 2))}')\n",
        "    print(f'Recall          - {str(np.round(np.mean(recall) * 100 , 2))}')\n",
        "    print(f'F1 Score        - {str(np.round(np.mean(f1) * 100 , 2))}')\n",
        "    print(f'ROC AUC Score   - {str(np.round(np.mean(rocauc) * 100 , 2))}')"
      ],
      "execution_count": 5,
      "outputs": []
    },
    {
      "cell_type": "code",
      "metadata": {
        "colab": {
          "base_uri": "https://localhost:8080/"
        },
        "id": "2xZgPFFdfKL6",
        "outputId": "d835321c-6b02-4708-8ceb-5ec580be32c6"
      },
      "source": [
        "evaluate_model(RandomForestClassifier(),X,Y)"
      ],
      "execution_count": 6,
      "outputs": [
        {
          "output_type": "stream",
          "text": [
            "Metrics\n",
            "**************************************************\n",
            "Accuracy        - 92.45\n",
            "Precision       - 96.88\n",
            "Recall          - 91.18\n",
            "F1 Score        - 93.94\n",
            "ROC AUC Score   - 92.96\n",
            "\n",
            "Confusion Matrix\n",
            "**************************************************\n",
            "[[18  3]\n",
            " [ 1 31]]\n",
            "\n",
            "\n",
            "Cross Validation Metrics\n",
            "**************************************************\n",
            "Accuracy        - 88.76\n",
            "Precision       - 95.71\n",
            "Recall          - 87.41\n",
            "F1 Score        - 90.45\n",
            "ROC AUC Score   - 91.6\n"
          ],
          "name": "stdout"
        }
      ]
    },
    {
      "cell_type": "code",
      "metadata": {
        "colab": {
          "base_uri": "https://localhost:8080/"
        },
        "id": "IedEHT8l7k9K",
        "outputId": "2ec13f54-b85f-45d0-fcce-3ce27d25fb97"
      },
      "source": [
        "evaluate_model(ExtraTreesClassifier(),X,Y)"
      ],
      "execution_count": 7,
      "outputs": [
        {
          "output_type": "stream",
          "text": [
            "Metrics\n",
            "**************************************************\n",
            "Accuracy        - 90.57\n",
            "Precision       - 93.75\n",
            "Recall          - 90.91\n",
            "F1 Score        - 92.31\n",
            "ROC AUC Score   - 90.45\n",
            "\n",
            "Confusion Matrix\n",
            "**************************************************\n",
            "[[18  3]\n",
            " [ 2 30]]\n",
            "\n",
            "\n",
            "Cross Validation Metrics\n",
            "**************************************************\n",
            "Accuracy        - 87.96\n",
            "Precision       - 92.8\n",
            "Recall          - 87.61\n",
            "F1 Score        - 89.35\n",
            "ROC AUC Score   - 89.82\n"
          ],
          "name": "stdout"
        }
      ]
    },
    {
      "cell_type": "code",
      "metadata": {
        "colab": {
          "base_uri": "https://localhost:8080/"
        },
        "id": "saLB5fXT_bt6",
        "outputId": "c149c0e7-1c5c-45c0-bd01-6a1d85a2e679"
      },
      "source": [
        "evaluate_model(XGBClassifier(),X,Y)"
      ],
      "execution_count": 8,
      "outputs": [
        {
          "output_type": "stream",
          "text": [
            "Metrics\n",
            "**************************************************\n",
            "Accuracy        - 92.45\n",
            "Precision       - 90.62\n",
            "Recall          - 96.67\n",
            "F1 Score        - 93.55\n",
            "ROC AUC Score   - 91.81\n",
            "\n",
            "Confusion Matrix\n",
            "**************************************************\n",
            "[[20  1]\n",
            " [ 3 29]]\n",
            "\n",
            "\n",
            "Cross Validation Metrics\n",
            "**************************************************\n",
            "Accuracy        - 91.37\n",
            "Precision       - 95.66\n",
            "Recall          - 89.37\n",
            "F1 Score        - 92.19\n",
            "ROC AUC Score   - 92.21\n"
          ],
          "name": "stdout"
        }
      ]
    },
    {
      "cell_type": "code",
      "metadata": {
        "colab": {
          "base_uri": "https://localhost:8080/"
        },
        "id": "wCbbezj7L_gi",
        "outputId": "898697c5-2c78-496a-cdbb-d7660f760001"
      },
      "source": [
        "def XGB_Accuracy(preds, dtrain):\n",
        "    labels = dtrain.get_label()\n",
        "    return 'acc', accuracy_score(preds, labels)\n",
        "  \n",
        "dtrain = xgb.DMatrix(X, Y, feature_names=cols)\n",
        "\n",
        "def XGB_HP(n_estimators,max_depth, subsample, colsample_bytree,min_child_weight, gamma ):\n",
        "    params = {\n",
        "        'eta': 0.1,\n",
        "        'objective': 'binary:hinge',\n",
        "        'eval_metric':'auc', \n",
        "        'silent': 1,\n",
        "        'booster':'dart'\n",
        "     }\n",
        "    params['n_estimators'] = int(round(n_estimators))\n",
        "    params['max_depth'] = int(round(max_depth))\n",
        "    params['subsample'] = max(min(subsample, 1), 0)\n",
        "    params['colsample_bytree'] = max(min(colsample_bytree, 1), 0)\n",
        "    params['min_child_weight'] = int(min_child_weight)\n",
        "    params['gamma'] = max(gamma, 0)\n",
        "    scores = xgb.cv(\n",
        "        params , \n",
        "        dtrain , \n",
        "        num_boost_round = 1000 ,\n",
        "        verbose_eval = False , \n",
        "        early_stopping_rounds = 10 , \n",
        "        feval = XGB_Accuracy , \n",
        "        maximize = True , \n",
        "        nfold = 10,\n",
        "        stratified=True\n",
        "    )\n",
        "    return  scores['test-acc-mean'].iloc[-1]\n",
        "\n",
        "param_space = {\n",
        "    'min_child_weight':(2, 20),\n",
        "    'gamma':(0, 5),\n",
        "    'subsample':(0.5, 1),\n",
        "    'colsample_bytree':(0.1, 1),\n",
        "    'max_depth': (3, 50),\n",
        "    'n_estimators':(50,500)\n",
        "}\n",
        "\n",
        "\n",
        "optimizer = BayesianOptimization(\n",
        "    XGB_HP , \n",
        "    param_space , \n",
        "    random_state = 7\n",
        ")\n",
        "                                  \n",
        "\n",
        "optimizer.maximize(\n",
        "    init_points = 30 , \n",
        "    n_iter = 60\n",
        ")"
      ],
      "execution_count": 9,
      "outputs": [
        {
          "output_type": "stream",
          "text": [
            "|   iter    |  target   | colsam... |   gamma   | max_depth | min_ch... | n_esti... | subsample |\n",
            "-------------------------------------------------------------------------------------------------\n",
            "| \u001b[0m 1       \u001b[0m | \u001b[0m 0.8598  \u001b[0m | \u001b[0m 0.1687  \u001b[0m | \u001b[0m 3.9     \u001b[0m | \u001b[0m 23.61   \u001b[0m | \u001b[0m 15.02   \u001b[0m | \u001b[0m 490.1   \u001b[0m | \u001b[0m 0.7692  \u001b[0m |\n",
            "| \u001b[95m 2       \u001b[0m | \u001b[95m 0.8902  \u001b[0m | \u001b[95m 0.551   \u001b[0m | \u001b[95m 0.3603  \u001b[0m | \u001b[95m 15.62   \u001b[0m | \u001b[95m 11.0    \u001b[0m | \u001b[95m 355.7   \u001b[0m | \u001b[95m 0.9019  \u001b[0m |\n",
            "| \u001b[0m 3       \u001b[0m | \u001b[0m 0.8712  \u001b[0m | \u001b[0m 0.4428  \u001b[0m | \u001b[0m 0.3297  \u001b[0m | \u001b[0m 16.54   \u001b[0m | \u001b[0m 18.37   \u001b[0m | \u001b[0m 146.0   \u001b[0m | \u001b[0m 0.7261  \u001b[0m |\n",
            "| \u001b[0m 4       \u001b[0m | \u001b[0m 0.841   \u001b[0m | \u001b[0m 0.9381  \u001b[0m | \u001b[0m 0.1245  \u001b[0m | \u001b[0m 31.23   \u001b[0m | \u001b[0m 19.1    \u001b[0m | \u001b[0m 153.6   \u001b[0m | \u001b[0m 0.7742  \u001b[0m |\n",
            "| \u001b[0m 5       \u001b[0m | \u001b[0m 0.841   \u001b[0m | \u001b[0m 0.9182  \u001b[0m | \u001b[0m 0.6658  \u001b[0m | \u001b[0m 27.6    \u001b[0m | \u001b[0m 15.51   \u001b[0m | \u001b[0m 351.1   \u001b[0m | \u001b[0m 0.7339  \u001b[0m |\n",
            "| \u001b[95m 6       \u001b[0m | \u001b[95m 0.8903  \u001b[0m | \u001b[95m 0.2844  \u001b[0m | \u001b[95m 2.454   \u001b[0m | \u001b[95m 20.5    \u001b[0m | \u001b[95m 10.59   \u001b[0m | \u001b[95m 214.7   \u001b[0m | \u001b[95m 0.919   \u001b[0m |\n",
            "| \u001b[95m 7       \u001b[0m | \u001b[95m 0.9057  \u001b[0m | \u001b[95m 0.7918  \u001b[0m | \u001b[95m 1.57    \u001b[0m | \u001b[95m 29.91   \u001b[0m | \u001b[95m 6.969   \u001b[0m | \u001b[95m 253.8   \u001b[0m | \u001b[95m 0.6765  \u001b[0m |\n",
            "| \u001b[0m 8       \u001b[0m | \u001b[0m 0.8714  \u001b[0m | \u001b[0m 0.6917  \u001b[0m | \u001b[0m 1.852   \u001b[0m | \u001b[0m 24.58   \u001b[0m | \u001b[0m 14.95   \u001b[0m | \u001b[0m 235.8   \u001b[0m | \u001b[0m 0.9532  \u001b[0m |\n",
            "| \u001b[0m 9       \u001b[0m | \u001b[0m 0.8905  \u001b[0m | \u001b[0m 0.2624  \u001b[0m | \u001b[0m 3.706   \u001b[0m | \u001b[0m 22.85   \u001b[0m | \u001b[0m 9.676   \u001b[0m | \u001b[0m 335.5   \u001b[0m | \u001b[0m 0.7615  \u001b[0m |\n",
            "| \u001b[0m 10      \u001b[0m | \u001b[0m 0.8791  \u001b[0m | \u001b[0m 0.4734  \u001b[0m | \u001b[0m 0.007134\u001b[0m | \u001b[0m 7.336   \u001b[0m | \u001b[0m 14.77   \u001b[0m | \u001b[0m 286.0   \u001b[0m | \u001b[0m 0.8481  \u001b[0m |\n",
            "| \u001b[0m 11      \u001b[0m | \u001b[0m 0.8789  \u001b[0m | \u001b[0m 0.9599  \u001b[0m | \u001b[0m 3.415   \u001b[0m | \u001b[0m 5.497   \u001b[0m | \u001b[0m 7.559   \u001b[0m | \u001b[0m 316.7   \u001b[0m | \u001b[0m 0.6176  \u001b[0m |\n",
            "| \u001b[0m 12      \u001b[0m | \u001b[0m 0.8068  \u001b[0m | \u001b[0m 0.9685  \u001b[0m | \u001b[0m 4.725   \u001b[0m | \u001b[0m 42.87   \u001b[0m | \u001b[0m 10.5    \u001b[0m | \u001b[0m 428.7   \u001b[0m | \u001b[0m 0.5656  \u001b[0m |\n",
            "| \u001b[0m 13      \u001b[0m | \u001b[0m 0.8675  \u001b[0m | \u001b[0m 0.3779  \u001b[0m | \u001b[0m 2.315   \u001b[0m | \u001b[0m 37.87   \u001b[0m | \u001b[0m 10.74   \u001b[0m | \u001b[0m 111.6   \u001b[0m | \u001b[0m 0.6718  \u001b[0m |\n",
            "| \u001b[95m 14      \u001b[0m | \u001b[95m 0.9093  \u001b[0m | \u001b[95m 0.392   \u001b[0m | \u001b[95m 1.502   \u001b[0m | \u001b[95m 10.78   \u001b[0m | \u001b[95m 9.468   \u001b[0m | \u001b[95m 251.7   \u001b[0m | \u001b[95m 0.8875  \u001b[0m |\n",
            "| \u001b[0m 15      \u001b[0m | \u001b[0m 0.8407  \u001b[0m | \u001b[0m 0.8168  \u001b[0m | \u001b[0m 2.612   \u001b[0m | \u001b[0m 24.65   \u001b[0m | \u001b[0m 16.01   \u001b[0m | \u001b[0m 449.3   \u001b[0m | \u001b[0m 0.8375  \u001b[0m |\n",
            "| \u001b[0m 16      \u001b[0m | \u001b[0m 0.8107  \u001b[0m | \u001b[0m 0.8204  \u001b[0m | \u001b[0m 4.696   \u001b[0m | \u001b[0m 4.911   \u001b[0m | \u001b[0m 17.76   \u001b[0m | \u001b[0m 174.5   \u001b[0m | \u001b[0m 0.7379  \u001b[0m |\n",
            "| \u001b[0m 17      \u001b[0m | \u001b[0m 0.8372  \u001b[0m | \u001b[0m 0.8171  \u001b[0m | \u001b[0m 3.586   \u001b[0m | \u001b[0m 9.916   \u001b[0m | \u001b[0m 13.86   \u001b[0m | \u001b[0m 81.16   \u001b[0m | \u001b[0m 0.6785  \u001b[0m |\n",
            "| \u001b[0m 18      \u001b[0m | \u001b[0m 0.8637  \u001b[0m | \u001b[0m 0.8315  \u001b[0m | \u001b[0m 2.139   \u001b[0m | \u001b[0m 31.19   \u001b[0m | \u001b[0m 15.11   \u001b[0m | \u001b[0m 419.6   \u001b[0m | \u001b[0m 0.8803  \u001b[0m |\n",
            "| \u001b[0m 19      \u001b[0m | \u001b[0m 0.8939  \u001b[0m | \u001b[0m 0.1064  \u001b[0m | \u001b[0m 2.101   \u001b[0m | \u001b[0m 24.77   \u001b[0m | \u001b[0m 2.999   \u001b[0m | \u001b[0m 293.6   \u001b[0m | \u001b[0m 0.8039  \u001b[0m |\n",
            "| \u001b[0m 20      \u001b[0m | \u001b[0m 0.8828  \u001b[0m | \u001b[0m 0.8456  \u001b[0m | \u001b[0m 4.709   \u001b[0m | \u001b[0m 9.023   \u001b[0m | \u001b[0m 6.148   \u001b[0m | \u001b[0m 346.6   \u001b[0m | \u001b[0m 0.5662  \u001b[0m |\n",
            "| \u001b[0m 21      \u001b[0m | \u001b[0m 0.8407  \u001b[0m | \u001b[0m 0.3017  \u001b[0m | \u001b[0m 2.874   \u001b[0m | \u001b[0m 10.97   \u001b[0m | \u001b[0m 16.08   \u001b[0m | \u001b[0m 435.6   \u001b[0m | \u001b[0m 0.5168  \u001b[0m |\n",
            "| \u001b[95m 22      \u001b[0m | \u001b[95m 0.9245  \u001b[0m | \u001b[95m 0.5794  \u001b[0m | \u001b[95m 3.985   \u001b[0m | \u001b[95m 48.83   \u001b[0m | \u001b[95m 6.937   \u001b[0m | \u001b[95m 126.1   \u001b[0m | \u001b[95m 0.9384  \u001b[0m |\n",
            "| \u001b[0m 23      \u001b[0m | \u001b[0m 0.8752  \u001b[0m | \u001b[0m 0.9183  \u001b[0m | \u001b[0m 0.9877  \u001b[0m | \u001b[0m 23.75   \u001b[0m | \u001b[0m 14.95   \u001b[0m | \u001b[0m 430.4   \u001b[0m | \u001b[0m 0.5841  \u001b[0m |\n",
            "| \u001b[0m 24      \u001b[0m | \u001b[0m 0.8868  \u001b[0m | \u001b[0m 0.6985  \u001b[0m | \u001b[0m 4.039   \u001b[0m | \u001b[0m 28.84   \u001b[0m | \u001b[0m 4.965   \u001b[0m | \u001b[0m 65.99   \u001b[0m | \u001b[0m 0.6408  \u001b[0m |\n",
            "| \u001b[0m 25      \u001b[0m | \u001b[0m 0.8789  \u001b[0m | \u001b[0m 0.8271  \u001b[0m | \u001b[0m 0.2238  \u001b[0m | \u001b[0m 3.386   \u001b[0m | \u001b[0m 8.509   \u001b[0m | \u001b[0m 78.63   \u001b[0m | \u001b[0m 0.5747  \u001b[0m |\n",
            "| \u001b[0m 26      \u001b[0m | \u001b[0m 0.8674  \u001b[0m | \u001b[0m 0.1209  \u001b[0m | \u001b[0m 2.624   \u001b[0m | \u001b[0m 35.74   \u001b[0m | \u001b[0m 9.687   \u001b[0m | \u001b[0m 110.6   \u001b[0m | \u001b[0m 0.6657  \u001b[0m |\n",
            "| \u001b[0m 27      \u001b[0m | \u001b[0m 0.9168  \u001b[0m | \u001b[0m 0.6313  \u001b[0m | \u001b[0m 4.703   \u001b[0m | \u001b[0m 49.65   \u001b[0m | \u001b[0m 6.349   \u001b[0m | \u001b[0m 54.76   \u001b[0m | \u001b[0m 0.9153  \u001b[0m |\n",
            "| \u001b[0m 28      \u001b[0m | \u001b[0m 0.8526  \u001b[0m | \u001b[0m 0.934   \u001b[0m | \u001b[0m 2.293   \u001b[0m | \u001b[0m 39.26   \u001b[0m | \u001b[0m 17.59   \u001b[0m | \u001b[0m 324.3   \u001b[0m | \u001b[0m 0.9363  \u001b[0m |\n",
            "| \u001b[0m 29      \u001b[0m | \u001b[0m 0.8748  \u001b[0m | \u001b[0m 0.1215  \u001b[0m | \u001b[0m 1.358   \u001b[0m | \u001b[0m 16.03   \u001b[0m | \u001b[0m 4.171   \u001b[0m | \u001b[0m 459.8   \u001b[0m | \u001b[0m 0.5152  \u001b[0m |\n",
            "| \u001b[0m 30      \u001b[0m | \u001b[0m 0.8714  \u001b[0m | \u001b[0m 0.7053  \u001b[0m | \u001b[0m 0.3567  \u001b[0m | \u001b[0m 19.96   \u001b[0m | \u001b[0m 9.526   \u001b[0m | \u001b[0m 131.6   \u001b[0m | \u001b[0m 0.7605  \u001b[0m |\n",
            "| \u001b[95m 31      \u001b[0m | \u001b[95m 0.9322  \u001b[0m | \u001b[95m 0.3317  \u001b[0m | \u001b[95m 1.164   \u001b[0m | \u001b[95m 49.83   \u001b[0m | \u001b[95m 3.742   \u001b[0m | \u001b[95m 499.7   \u001b[0m | \u001b[95m 0.823   \u001b[0m |\n",
            "| \u001b[0m 32      \u001b[0m | \u001b[0m 0.9125  \u001b[0m | \u001b[0m 0.8309  \u001b[0m | \u001b[0m 0.4552  \u001b[0m | \u001b[0m 3.091   \u001b[0m | \u001b[0m 2.897   \u001b[0m | \u001b[0m 50.48   \u001b[0m | \u001b[0m 0.8682  \u001b[0m |\n",
            "| \u001b[0m 33      \u001b[0m | \u001b[0m 0.9322  \u001b[0m | \u001b[0m 0.586   \u001b[0m | \u001b[0m 0.06064 \u001b[0m | \u001b[0m 47.45   \u001b[0m | \u001b[0m 2.033   \u001b[0m | \u001b[0m 212.4   \u001b[0m | \u001b[0m 0.5855  \u001b[0m |\n",
            "| \u001b[0m 34      \u001b[0m | \u001b[0m 0.9281  \u001b[0m | \u001b[0m 0.5879  \u001b[0m | \u001b[0m 0.7     \u001b[0m | \u001b[0m 12.96   \u001b[0m | \u001b[0m 2.116   \u001b[0m | \u001b[0m 400.9   \u001b[0m | \u001b[0m 0.5841  \u001b[0m |\n",
            "| \u001b[0m 35      \u001b[0m | \u001b[0m 0.8863  \u001b[0m | \u001b[0m 0.1874  \u001b[0m | \u001b[0m 0.9137  \u001b[0m | \u001b[0m 4.252   \u001b[0m | \u001b[0m 6.844   \u001b[0m | \u001b[0m 499.4   \u001b[0m | \u001b[0m 0.5726  \u001b[0m |\n",
            "| \u001b[0m 36      \u001b[0m | \u001b[0m 0.8637  \u001b[0m | \u001b[0m 0.4472  \u001b[0m | \u001b[0m 0.7362  \u001b[0m | \u001b[0m 49.77   \u001b[0m | \u001b[0m 19.35   \u001b[0m | \u001b[0m 499.1   \u001b[0m | \u001b[0m 0.8355  \u001b[0m |\n",
            "| \u001b[95m 37      \u001b[0m | \u001b[95m 0.9322  \u001b[0m | \u001b[95m 0.2176  \u001b[0m | \u001b[95m 0.6156  \u001b[0m | \u001b[95m 49.0    \u001b[0m | \u001b[95m 2.262   \u001b[0m | \u001b[95m 79.17   \u001b[0m | \u001b[95m 0.8605  \u001b[0m |\n",
            "| \u001b[95m 38      \u001b[0m | \u001b[95m 0.9399  \u001b[0m | \u001b[95m 0.3224  \u001b[0m | \u001b[95m 0.2022  \u001b[0m | \u001b[95m 48.91   \u001b[0m | \u001b[95m 2.375   \u001b[0m | \u001b[95m 157.2   \u001b[0m | \u001b[95m 0.7802  \u001b[0m |\n",
            "| \u001b[0m 39      \u001b[0m | \u001b[0m 0.9358  \u001b[0m | \u001b[0m 0.8996  \u001b[0m | \u001b[0m 0.1023  \u001b[0m | \u001b[0m 5.496   \u001b[0m | \u001b[0m 2.637   \u001b[0m | \u001b[0m 225.9   \u001b[0m | \u001b[0m 0.7137  \u001b[0m |\n",
            "| \u001b[95m 40      \u001b[0m | \u001b[95m 0.947   \u001b[0m | \u001b[95m 0.6367  \u001b[0m | \u001b[95m 0.2131  \u001b[0m | \u001b[95m 47.8    \u001b[0m | \u001b[95m 2.776   \u001b[0m | \u001b[95m 325.4   \u001b[0m | \u001b[95m 0.5652  \u001b[0m |\n",
            "| \u001b[0m 41      \u001b[0m | \u001b[0m 0.947   \u001b[0m | \u001b[0m 0.7267  \u001b[0m | \u001b[0m 3.39    \u001b[0m | \u001b[0m 49.91   \u001b[0m | \u001b[0m 2.067   \u001b[0m | \u001b[0m 265.3   \u001b[0m | \u001b[0m 0.656   \u001b[0m |\n",
            "| \u001b[0m 42      \u001b[0m | \u001b[0m 0.9283  \u001b[0m | \u001b[0m 0.5513  \u001b[0m | \u001b[0m 0.2446  \u001b[0m | \u001b[0m 34.18   \u001b[0m | \u001b[0m 2.922   \u001b[0m | \u001b[0m 499.6   \u001b[0m | \u001b[0m 0.7434  \u001b[0m |\n",
            "| \u001b[0m 43      \u001b[0m | \u001b[0m 0.9279  \u001b[0m | \u001b[0m 0.3498  \u001b[0m | \u001b[0m 0.5836  \u001b[0m | \u001b[0m 49.55   \u001b[0m | \u001b[0m 3.378   \u001b[0m | \u001b[0m 289.5   \u001b[0m | \u001b[0m 0.5331  \u001b[0m |\n",
            "| \u001b[0m 44      \u001b[0m | \u001b[0m 0.9321  \u001b[0m | \u001b[0m 0.296   \u001b[0m | \u001b[0m 0.4203  \u001b[0m | \u001b[0m 49.33   \u001b[0m | \u001b[0m 2.447   \u001b[0m | \u001b[0m 244.4   \u001b[0m | \u001b[0m 0.698   \u001b[0m |\n",
            "| \u001b[0m 45      \u001b[0m | \u001b[0m 0.8976  \u001b[0m | \u001b[0m 0.1268  \u001b[0m | \u001b[0m 1.461   \u001b[0m | \u001b[0m 35.91   \u001b[0m | \u001b[0m 2.043   \u001b[0m | \u001b[0m 50.33   \u001b[0m | \u001b[0m 0.8819  \u001b[0m |\n",
            "| \u001b[0m 46      \u001b[0m | \u001b[0m 0.8637  \u001b[0m | \u001b[0m 0.1011  \u001b[0m | \u001b[0m 4.952   \u001b[0m | \u001b[0m 36.46   \u001b[0m | \u001b[0m 2.152   \u001b[0m | \u001b[0m 229.6   \u001b[0m | \u001b[0m 0.6805  \u001b[0m |\n",
            "| \u001b[0m 47      \u001b[0m | \u001b[0m 0.9285  \u001b[0m | \u001b[0m 0.1858  \u001b[0m | \u001b[0m 0.2349  \u001b[0m | \u001b[0m 49.28   \u001b[0m | \u001b[0m 2.777   \u001b[0m | \u001b[0m 474.4   \u001b[0m | \u001b[0m 0.8782  \u001b[0m |\n",
            "| \u001b[0m 48      \u001b[0m | \u001b[0m 0.9279  \u001b[0m | \u001b[0m 0.2366  \u001b[0m | \u001b[0m 0.2068  \u001b[0m | \u001b[0m 38.95   \u001b[0m | \u001b[0m 2.256   \u001b[0m | \u001b[0m 373.4   \u001b[0m | \u001b[0m 0.9421  \u001b[0m |\n",
            "| \u001b[0m 49      \u001b[0m | \u001b[0m 0.9319  \u001b[0m | \u001b[0m 0.158   \u001b[0m | \u001b[0m 0.2674  \u001b[0m | \u001b[0m 15.19   \u001b[0m | \u001b[0m 2.198   \u001b[0m | \u001b[0m 339.0   \u001b[0m | \u001b[0m 0.8748  \u001b[0m |\n",
            "| \u001b[0m 50      \u001b[0m | \u001b[0m 0.9433  \u001b[0m | \u001b[0m 0.8013  \u001b[0m | \u001b[0m 1.229   \u001b[0m | \u001b[0m 48.16   \u001b[0m | \u001b[0m 2.257   \u001b[0m | \u001b[0m 123.6   \u001b[0m | \u001b[0m 0.8203  \u001b[0m |\n",
            "| \u001b[0m 51      \u001b[0m | \u001b[0m 0.9205  \u001b[0m | \u001b[0m 0.2861  \u001b[0m | \u001b[0m 0.704   \u001b[0m | \u001b[0m 49.99   \u001b[0m | \u001b[0m 2.061   \u001b[0m | \u001b[0m 182.1   \u001b[0m | \u001b[0m 0.8687  \u001b[0m |\n",
            "| \u001b[0m 52      \u001b[0m | \u001b[0m 0.8714  \u001b[0m | \u001b[0m 0.1771  \u001b[0m | \u001b[0m 0.04679 \u001b[0m | \u001b[0m 3.728   \u001b[0m | \u001b[0m 19.58   \u001b[0m | \u001b[0m 216.6   \u001b[0m | \u001b[0m 0.7925  \u001b[0m |\n",
            "| \u001b[0m 53      \u001b[0m | \u001b[0m 0.9245  \u001b[0m | \u001b[0m 0.2221  \u001b[0m | \u001b[0m 0.3851  \u001b[0m | \u001b[0m 8.484   \u001b[0m | \u001b[0m 2.616   \u001b[0m | \u001b[0m 156.5   \u001b[0m | \u001b[0m 0.7619  \u001b[0m |\n",
            "| \u001b[0m 54      \u001b[0m | \u001b[0m 0.8637  \u001b[0m | \u001b[0m 0.1717  \u001b[0m | \u001b[0m 0.1652  \u001b[0m | \u001b[0m 48.58   \u001b[0m | \u001b[0m 19.88   \u001b[0m | \u001b[0m 268.1   \u001b[0m | \u001b[0m 0.7714  \u001b[0m |\n",
            "| \u001b[0m 55      \u001b[0m | \u001b[0m 0.8333  \u001b[0m | \u001b[0m 0.8049  \u001b[0m | \u001b[0m 0.9959  \u001b[0m | \u001b[0m 49.91   \u001b[0m | \u001b[0m 19.54   \u001b[0m | \u001b[0m 58.7    \u001b[0m | \u001b[0m 0.9819  \u001b[0m |\n",
            "| \u001b[0m 56      \u001b[0m | \u001b[0m 0.8974  \u001b[0m | \u001b[0m 0.9163  \u001b[0m | \u001b[0m 0.1924  \u001b[0m | \u001b[0m 3.322   \u001b[0m | \u001b[0m 2.835   \u001b[0m | \u001b[0m 131.7   \u001b[0m | \u001b[0m 0.8747  \u001b[0m |\n",
            "| \u001b[0m 57      \u001b[0m | \u001b[0m 0.9321  \u001b[0m | \u001b[0m 0.3144  \u001b[0m | \u001b[0m 0.4162  \u001b[0m | \u001b[0m 16.79   \u001b[0m | \u001b[0m 2.102   \u001b[0m | \u001b[0m 193.7   \u001b[0m | \u001b[0m 0.7229  \u001b[0m |\n",
            "| \u001b[0m 58      \u001b[0m | \u001b[0m 0.9396  \u001b[0m | \u001b[0m 0.3513  \u001b[0m | \u001b[0m 0.1942  \u001b[0m | \u001b[0m 38.12   \u001b[0m | \u001b[0m 2.019   \u001b[0m | \u001b[0m 407.5   \u001b[0m | \u001b[0m 0.7732  \u001b[0m |\n",
            "| \u001b[0m 59      \u001b[0m | \u001b[0m 0.8786  \u001b[0m | \u001b[0m 0.2228  \u001b[0m | \u001b[0m 0.1926  \u001b[0m | \u001b[0m 3.123   \u001b[0m | \u001b[0m 2.291   \u001b[0m | \u001b[0m 265.4   \u001b[0m | \u001b[0m 0.8026  \u001b[0m |\n",
            "| \u001b[0m 60      \u001b[0m | \u001b[0m 0.9091  \u001b[0m | \u001b[0m 0.1704  \u001b[0m | \u001b[0m 0.1667  \u001b[0m | \u001b[0m 49.44   \u001b[0m | \u001b[0m 2.723   \u001b[0m | \u001b[0m 139.2   \u001b[0m | \u001b[0m 0.5291  \u001b[0m |\n",
            "| \u001b[0m 61      \u001b[0m | \u001b[0m 0.8601  \u001b[0m | \u001b[0m 0.7685  \u001b[0m | \u001b[0m 5.0     \u001b[0m | \u001b[0m 50.0    \u001b[0m | \u001b[0m 2.724   \u001b[0m | \u001b[0m 91.49   \u001b[0m | \u001b[0m 0.5     \u001b[0m |\n",
            "| \u001b[0m 62      \u001b[0m | \u001b[0m 0.8597  \u001b[0m | \u001b[0m 0.5182  \u001b[0m | \u001b[0m 0.4074  \u001b[0m | \u001b[0m 3.222   \u001b[0m | \u001b[0m 19.35   \u001b[0m | \u001b[0m 387.6   \u001b[0m | \u001b[0m 0.968   \u001b[0m |\n",
            "| \u001b[0m 63      \u001b[0m | \u001b[0m 0.9353  \u001b[0m | \u001b[0m 0.528   \u001b[0m | \u001b[0m 0.5097  \u001b[0m | \u001b[0m 49.3    \u001b[0m | \u001b[0m 2.133   \u001b[0m | \u001b[0m 54.6    \u001b[0m | \u001b[0m 0.7604  \u001b[0m |\n",
            "| \u001b[0m 64      \u001b[0m | \u001b[0m 0.8372  \u001b[0m | \u001b[0m 0.9574  \u001b[0m | \u001b[0m 0.3707  \u001b[0m | \u001b[0m 3.055   \u001b[0m | \u001b[0m 17.86   \u001b[0m | \u001b[0m 50.4    \u001b[0m | \u001b[0m 0.7431  \u001b[0m |\n",
            "| \u001b[0m 65      \u001b[0m | \u001b[0m 0.8523  \u001b[0m | \u001b[0m 0.6177  \u001b[0m | \u001b[0m 0.4042  \u001b[0m | \u001b[0m 3.105   \u001b[0m | \u001b[0m 19.23   \u001b[0m | \u001b[0m 475.6   \u001b[0m | \u001b[0m 0.6859  \u001b[0m |\n",
            "| \u001b[0m 66      \u001b[0m | \u001b[0m 0.894   \u001b[0m | \u001b[0m 0.9854  \u001b[0m | \u001b[0m 3.68    \u001b[0m | \u001b[0m 28.3    \u001b[0m | \u001b[0m 2.053   \u001b[0m | \u001b[0m 155.5   \u001b[0m | \u001b[0m 0.978   \u001b[0m |\n",
            "| \u001b[0m 67      \u001b[0m | \u001b[0m 0.9358  \u001b[0m | \u001b[0m 0.345   \u001b[0m | \u001b[0m 0.1329  \u001b[0m | \u001b[0m 26.18   \u001b[0m | \u001b[0m 2.054   \u001b[0m | \u001b[0m 383.9   \u001b[0m | \u001b[0m 0.9991  \u001b[0m |\n",
            "| \u001b[0m 68      \u001b[0m | \u001b[0m 0.9325  \u001b[0m | \u001b[0m 0.2239  \u001b[0m | \u001b[0m 0.4749  \u001b[0m | \u001b[0m 47.0    \u001b[0m | \u001b[0m 2.254   \u001b[0m | \u001b[0m 344.5   \u001b[0m | \u001b[0m 0.8307  \u001b[0m |\n",
            "| \u001b[0m 69      \u001b[0m | \u001b[0m 0.9397  \u001b[0m | \u001b[0m 0.4211  \u001b[0m | \u001b[0m 0.00781 \u001b[0m | \u001b[0m 48.88   \u001b[0m | \u001b[0m 2.085   \u001b[0m | \u001b[0m 402.3   \u001b[0m | \u001b[0m 0.9147  \u001b[0m |\n",
            "| \u001b[0m 70      \u001b[0m | \u001b[0m 0.9356  \u001b[0m | \u001b[0m 0.1723  \u001b[0m | \u001b[0m 0.4163  \u001b[0m | \u001b[0m 5.267   \u001b[0m | \u001b[0m 2.56    \u001b[0m | \u001b[0m 372.4   \u001b[0m | \u001b[0m 0.9886  \u001b[0m |\n",
            "| \u001b[0m 71      \u001b[0m | \u001b[0m 0.9282  \u001b[0m | \u001b[0m 0.8201  \u001b[0m | \u001b[0m 4.964   \u001b[0m | \u001b[0m 42.72   \u001b[0m | \u001b[0m 2.374   \u001b[0m | \u001b[0m 317.5   \u001b[0m | \u001b[0m 0.9801  \u001b[0m |\n",
            "| \u001b[0m 72      \u001b[0m | \u001b[0m 0.9316  \u001b[0m | \u001b[0m 0.8834  \u001b[0m | \u001b[0m 0.3403  \u001b[0m | \u001b[0m 4.084   \u001b[0m | \u001b[0m 2.038   \u001b[0m | \u001b[0m 200.5   \u001b[0m | \u001b[0m 0.8722  \u001b[0m |\n",
            "| \u001b[0m 73      \u001b[0m | \u001b[0m 0.9358  \u001b[0m | \u001b[0m 0.9073  \u001b[0m | \u001b[0m 0.01937 \u001b[0m | \u001b[0m 32.62   \u001b[0m | \u001b[0m 2.894   \u001b[0m | \u001b[0m 324.9   \u001b[0m | \u001b[0m 0.5209  \u001b[0m |\n",
            "| \u001b[0m 74      \u001b[0m | \u001b[0m 0.9168  \u001b[0m | \u001b[0m 0.8818  \u001b[0m | \u001b[0m 0.5724  \u001b[0m | \u001b[0m 49.74   \u001b[0m | \u001b[0m 2.205   \u001b[0m | \u001b[0m 274.2   \u001b[0m | \u001b[0m 0.8045  \u001b[0m |\n",
            "| \u001b[0m 75      \u001b[0m | \u001b[0m 0.8521  \u001b[0m | \u001b[0m 0.1167  \u001b[0m | \u001b[0m 0.1085  \u001b[0m | \u001b[0m 3.162   \u001b[0m | \u001b[0m 19.12   \u001b[0m | \u001b[0m 325.9   \u001b[0m | \u001b[0m 0.8891  \u001b[0m |\n",
            "| \u001b[0m 76      \u001b[0m | \u001b[0m 0.8484  \u001b[0m | \u001b[0m 0.5207  \u001b[0m | \u001b[0m 1.808   \u001b[0m | \u001b[0m 49.95   \u001b[0m | \u001b[0m 15.59   \u001b[0m | \u001b[0m 209.7   \u001b[0m | \u001b[0m 0.6749  \u001b[0m |\n",
            "| \u001b[0m 77      \u001b[0m | \u001b[0m 0.9282  \u001b[0m | \u001b[0m 0.7365  \u001b[0m | \u001b[0m 0.0     \u001b[0m | \u001b[0m 18.07   \u001b[0m | \u001b[0m 2.0     \u001b[0m | \u001b[0m 484.5   \u001b[0m | \u001b[0m 1.0     \u001b[0m |\n",
            "| \u001b[0m 78      \u001b[0m | \u001b[0m 0.8862  \u001b[0m | \u001b[0m 0.7425  \u001b[0m | \u001b[0m 4.4     \u001b[0m | \u001b[0m 3.067   \u001b[0m | \u001b[0m 3.087   \u001b[0m | \u001b[0m 67.55   \u001b[0m | \u001b[0m 0.999   \u001b[0m |\n",
            "| \u001b[0m 79      \u001b[0m | \u001b[0m 0.909   \u001b[0m | \u001b[0m 0.1216  \u001b[0m | \u001b[0m 1.998   \u001b[0m | \u001b[0m 46.76   \u001b[0m | \u001b[0m 2.057   \u001b[0m | \u001b[0m 64.03   \u001b[0m | \u001b[0m 0.8377  \u001b[0m |\n",
            "| \u001b[95m 80      \u001b[0m | \u001b[95m 0.9548  \u001b[0m | \u001b[95m 0.4585  \u001b[0m | \u001b[95m 0.04564 \u001b[0m | \u001b[95m 18.18   \u001b[0m | \u001b[95m 2.417   \u001b[0m | \u001b[95m 80.75   \u001b[0m | \u001b[95m 0.9433  \u001b[0m |\n",
            "| \u001b[0m 81      \u001b[0m | \u001b[0m 0.9281  \u001b[0m | \u001b[0m 0.442   \u001b[0m | \u001b[0m 0.1562  \u001b[0m | \u001b[0m 44.45   \u001b[0m | \u001b[0m 2.949   \u001b[0m | \u001b[0m 487.9   \u001b[0m | \u001b[0m 0.9015  \u001b[0m |\n",
            "| \u001b[0m 82      \u001b[0m | \u001b[0m 0.9321  \u001b[0m | \u001b[0m 0.3805  \u001b[0m | \u001b[0m 0.2978  \u001b[0m | \u001b[0m 8.437   \u001b[0m | \u001b[0m 2.05    \u001b[0m | \u001b[0m 98.32   \u001b[0m | \u001b[0m 0.635   \u001b[0m |\n",
            "| \u001b[0m 83      \u001b[0m | \u001b[0m 0.9318  \u001b[0m | \u001b[0m 0.8448  \u001b[0m | \u001b[0m 0.4414  \u001b[0m | \u001b[0m 3.079   \u001b[0m | \u001b[0m 2.785   \u001b[0m | \u001b[0m 416.7   \u001b[0m | \u001b[0m 0.5915  \u001b[0m |\n",
            "| \u001b[0m 84      \u001b[0m | \u001b[0m 0.9358  \u001b[0m | \u001b[0m 0.9457  \u001b[0m | \u001b[0m 0.2355  \u001b[0m | \u001b[0m 49.63   \u001b[0m | \u001b[0m 2.981   \u001b[0m | \u001b[0m 310.6   \u001b[0m | \u001b[0m 0.6436  \u001b[0m |\n",
            "| \u001b[0m 85      \u001b[0m | \u001b[0m 0.9396  \u001b[0m | \u001b[0m 0.6085  \u001b[0m | \u001b[0m 0.1272  \u001b[0m | \u001b[0m 29.81   \u001b[0m | \u001b[0m 2.316   \u001b[0m | \u001b[0m 94.22   \u001b[0m | \u001b[0m 0.6559  \u001b[0m |\n",
            "| \u001b[0m 86      \u001b[0m | \u001b[0m 0.8182  \u001b[0m | \u001b[0m 0.4864  \u001b[0m | \u001b[0m 4.083   \u001b[0m | \u001b[0m 3.87    \u001b[0m | \u001b[0m 19.44   \u001b[0m | \u001b[0m 265.7   \u001b[0m | \u001b[0m 0.5138  \u001b[0m |\n",
            "| \u001b[0m 87      \u001b[0m | \u001b[0m 0.913   \u001b[0m | \u001b[0m 0.9205  \u001b[0m | \u001b[0m 0.09612 \u001b[0m | \u001b[0m 41.53   \u001b[0m | \u001b[0m 2.128   \u001b[0m | \u001b[0m 390.4   \u001b[0m | \u001b[0m 0.5833  \u001b[0m |\n",
            "| \u001b[0m 88      \u001b[0m | \u001b[0m 0.9205  \u001b[0m | \u001b[0m 0.4487  \u001b[0m | \u001b[0m 0.1928  \u001b[0m | \u001b[0m 16.42   \u001b[0m | \u001b[0m 2.449   \u001b[0m | \u001b[0m 419.3   \u001b[0m | \u001b[0m 0.524   \u001b[0m |\n",
            "| \u001b[0m 89      \u001b[0m | \u001b[0m 0.9392  \u001b[0m | \u001b[0m 0.4286  \u001b[0m | \u001b[0m 0.6695  \u001b[0m | \u001b[0m 30.37   \u001b[0m | \u001b[0m 2.039   \u001b[0m | \u001b[0m 358.2   \u001b[0m | \u001b[0m 0.6763  \u001b[0m |\n",
            "| \u001b[0m 90      \u001b[0m | \u001b[0m 0.9244  \u001b[0m | \u001b[0m 0.2756  \u001b[0m | \u001b[0m 0.03143 \u001b[0m | \u001b[0m 14.43   \u001b[0m | \u001b[0m 2.139   \u001b[0m | \u001b[0m 208.5   \u001b[0m | \u001b[0m 0.6865  \u001b[0m |\n",
            "=================================================================================================\n"
          ],
          "name": "stdout"
        }
      ]
    },
    {
      "cell_type": "code",
      "metadata": {
        "colab": {
          "base_uri": "https://localhost:8080/"
        },
        "id": "Kdp0zpUgNJeN",
        "outputId": "a97bf904-5b40-4300-fa2c-caafe9b6af8f"
      },
      "source": [
        "print(optimizer.max['params'])"
      ],
      "execution_count": 10,
      "outputs": [
        {
          "output_type": "stream",
          "text": [
            "{'colsample_bytree': 0.45848111335008956, 'gamma': 0.04563705434712684, 'max_depth': 18.18354524230952, 'min_child_weight': 2.41665691095497, 'n_estimators': 80.7500951434135, 'subsample': 0.9433200825841126}\n"
          ],
          "name": "stdout"
        }
      ]
    },
    {
      "cell_type": "code",
      "metadata": {
        "id": "4sKbv8Z8gQJM"
      },
      "source": [
        "params = {\n",
        "    'colsample_bytree': 0.45848111335008956, 'gamma': 0.04563705434712684, \n",
        "    'max_depth': 18, 'min_child_weight': 2.41665691095497, \n",
        "    'subsample':0.9433200825841126,'n_estimators': 82,'eta': 0.1,\n",
        "    'objective': 'binary:hinge', 'eval_metric':'auc', 'silent': 1,\n",
        "    'booster':'dart'\n",
        "}\n",
        "\n",
        "model_xgb = XGBClassifier(**params)"
      ],
      "execution_count": 27,
      "outputs": []
    },
    {
      "cell_type": "code",
      "metadata": {
        "colab": {
          "base_uri": "https://localhost:8080/"
        },
        "id": "IdOPctb8K-mE",
        "outputId": "f4701cd6-e45f-46f0-d706-dbd44d82227f"
      },
      "source": [
        "evaluate_model(model_xgb,X,Y)"
      ],
      "execution_count": 28,
      "outputs": [
        {
          "output_type": "stream",
          "text": [
            "Metrics\n",
            "**************************************************\n",
            "Accuracy        - 92.45\n",
            "Precision       - 93.75\n",
            "Recall          - 93.75\n",
            "F1 Score        - 93.75\n",
            "ROC AUC Score   - 92.11\n",
            "\n",
            "Confusion Matrix\n",
            "**************************************************\n",
            "[[19  2]\n",
            " [ 2 30]]\n",
            "\n",
            "\n",
            "Cross Validation Metrics\n",
            "**************************************************\n",
            "Accuracy        - 91.0\n",
            "Precision       - 94.29\n",
            "Recall          - 90.71\n",
            "F1 Score        - 92.08\n",
            "ROC AUC Score   - 91.76\n"
          ],
          "name": "stdout"
        }
      ]
    },
    {
      "cell_type": "code",
      "metadata": {
        "id": "mAs6F4SypC1m"
      },
      "source": [
        "filename = \"/content/drive/MyDrive/AR/model_xgb.pkl\"  \n",
        "\n",
        "with open(filename, 'wb') as file:  \n",
        "    pickle.dump(model_xgb, file)"
      ],
      "execution_count": 29,
      "outputs": []
    },
    {
      "cell_type": "code",
      "metadata": {
        "colab": {
          "base_uri": "https://localhost:8080/"
        },
        "id": "jeycDSfCg4RY",
        "outputId": "7da5bedf-96c9-43a8-feb4-42e08f1b640b"
      },
      "source": [
        "model_xgb_bgg = BaggingClassifier(model_xgb,n_estimators=15)\n",
        "\n",
        "evaluate_model(model_xgb_bgg,X,Y)"
      ],
      "execution_count": 30,
      "outputs": [
        {
          "output_type": "stream",
          "text": [
            "Metrics\n",
            "**************************************************\n",
            "Accuracy        - 98.11\n",
            "Precision       - 100.0\n",
            "Recall          - 96.97\n",
            "F1 Score        - 98.46\n",
            "ROC AUC Score   - 98.48\n",
            "\n",
            "Confusion Matrix\n",
            "**************************************************\n",
            "[[20  1]\n",
            " [ 0 32]]\n",
            "\n",
            "\n",
            "Cross Validation Metrics\n",
            "**************************************************\n",
            "Accuracy        - 91.0\n",
            "Precision       - 96.43\n",
            "Recall          - 89.03\n",
            "F1 Score        - 92.17\n",
            "ROC AUC Score   - 92.26\n"
          ],
          "name": "stdout"
        }
      ]
    },
    {
      "cell_type": "code",
      "metadata": {
        "id": "SgidKKjspjie"
      },
      "source": [
        "filename = \"/content/drive/MyDrive/AR/model_xgb_bgg.pkl\"  \n",
        "\n",
        "with open(filename, 'wb') as file:  \n",
        "    pickle.dump(model_xgb_bgg, file)"
      ],
      "execution_count": 31,
      "outputs": []
    },
    {
      "cell_type": "code",
      "metadata": {
        "colab": {
          "base_uri": "https://localhost:8080/"
        },
        "id": "0yPgCen7WWfs",
        "outputId": "519ace12-f1b6-4c91-d9ad-e83caffd673a"
      },
      "source": [
        "def optimize(trial , x , y) :  \n",
        "    max_features = trial.suggest_uniform('max_features' , 0.01 , 1)\n",
        "    max_depth = trial.suggest_int('max_depth' , 3 , 50)\n",
        "    min_samples_leaf = trial.suggest_int('min_samples_leaf' , 2 , 10)\n",
        "    min_samples_split = trial.suggest_int('min_samples_split' , 2 , 10)\n",
        "    n_estimators = trial.suggest_int('n_estimators' , 50 , 1000)\n",
        "    model = RandomForestClassifier(\n",
        "        max_features = max_features ,\n",
        "        max_depth = max_depth ,\n",
        "        min_samples_leaf = min_samples_leaf ,\n",
        "        min_samples_split = min_samples_split ,\n",
        "        n_estimators = n_estimators ,\n",
        "        n_jobs = -1\n",
        "    )\n",
        "    kf = StratifiedKFold(n_splits = 10)\n",
        "    acc = []\n",
        "    for idx in kf.split(x , y) :   \n",
        "        train_idx , test_idx = idx[0] , idx[1]\n",
        "        x_train = x[train_idx]  \n",
        "        y_train = y[train_idx] \n",
        "        x_test = x[test_idx]\n",
        "        y_test = y[test_idx]\n",
        "        model.fit(x_train , y_train)\n",
        "        pred = model.predict(x_test)\n",
        "        fold_acc = accuracy_score(y_test , pred)\n",
        "        acc.append(fold_acc)\n",
        "    return np.mean(acc)\n",
        "\n",
        "\n",
        "optimization_function = partial(optimize , x = X , y = Y)\n",
        "\n",
        "study = optuna.create_study(direction = 'maximize')\n",
        "study.optimize(optimization_function , n_trials = 25)"
      ],
      "execution_count": 32,
      "outputs": [
        {
          "output_type": "stream",
          "text": [
            "\u001b[32m[I 2021-06-29 09:06:36,954]\u001b[0m A new study created in memory with name: no-name-4e09bffc-6674-474b-b492-9b4e9df7e672\u001b[0m\n",
            "\u001b[32m[I 2021-06-29 09:06:50,775]\u001b[0m Trial 0 finished with value: 0.8538461538461538 and parameters: {'max_features': 0.054197497535592255, 'max_depth': 47, 'min_samples_leaf': 4, 'min_samples_split': 6, 'n_estimators': 620}. Best is trial 0 with value: 0.8538461538461538.\u001b[0m\n",
            "\u001b[32m[I 2021-06-29 09:07:00,766]\u001b[0m Trial 1 finished with value: 0.8534188034188034 and parameters: {'max_features': 0.1740616258657362, 'max_depth': 4, 'min_samples_leaf': 5, 'min_samples_split': 8, 'n_estimators': 475}. Best is trial 0 with value: 0.8538461538461538.\u001b[0m\n",
            "\u001b[32m[I 2021-06-29 09:07:16,327]\u001b[0m Trial 2 finished with value: 0.8763532763532764 and parameters: {'max_features': 0.521773436647293, 'max_depth': 27, 'min_samples_leaf': 4, 'min_samples_split': 9, 'n_estimators': 685}. Best is trial 2 with value: 0.8763532763532764.\u001b[0m\n",
            "\u001b[32m[I 2021-06-29 09:07:32,925]\u001b[0m Trial 3 finished with value: 0.8649572649572649 and parameters: {'max_features': 0.6650141003541118, 'max_depth': 50, 'min_samples_leaf': 6, 'min_samples_split': 10, 'n_estimators': 746}. Best is trial 2 with value: 0.8763532763532764.\u001b[0m\n",
            "\u001b[32m[I 2021-06-29 09:07:50,034]\u001b[0m Trial 4 finished with value: 0.8267806267806268 and parameters: {'max_features': 0.9132898733501837, 'max_depth': 3, 'min_samples_leaf': 5, 'min_samples_split': 3, 'n_estimators': 765}. Best is trial 2 with value: 0.8763532763532764.\u001b[0m\n",
            "\u001b[32m[I 2021-06-29 09:08:08,399]\u001b[0m Trial 5 finished with value: 0.8913105413105413 and parameters: {'max_features': 0.8597235590583795, 'max_depth': 49, 'min_samples_leaf': 2, 'min_samples_split': 10, 'n_estimators': 819}. Best is trial 5 with value: 0.8913105413105413.\u001b[0m\n",
            "\u001b[32m[I 2021-06-29 09:08:11,836]\u001b[0m Trial 6 finished with value: 0.861111111111111 and parameters: {'max_features': 0.36850333217315623, 'max_depth': 17, 'min_samples_leaf': 6, 'min_samples_split': 7, 'n_estimators': 93}. Best is trial 5 with value: 0.8913105413105413.\u001b[0m\n",
            "\u001b[32m[I 2021-06-29 09:08:26,556]\u001b[0m Trial 7 finished with value: 0.861111111111111 and parameters: {'max_features': 0.49621094120134873, 'max_depth': 35, 'min_samples_leaf': 6, 'min_samples_split': 9, 'n_estimators': 644}. Best is trial 5 with value: 0.8913105413105413.\u001b[0m\n",
            "\u001b[32m[I 2021-06-29 09:08:41,464]\u001b[0m Trial 8 finished with value: 0.8341880341880342 and parameters: {'max_features': 0.5238099461351133, 'max_depth': 50, 'min_samples_leaf': 10, 'min_samples_split': 2, 'n_estimators': 658}. Best is trial 5 with value: 0.8913105413105413.\u001b[0m\n",
            "\u001b[32m[I 2021-06-29 09:08:54,714]\u001b[0m Trial 9 finished with value: 0.8497150997150997 and parameters: {'max_features': 0.04523219138043582, 'max_depth': 5, 'min_samples_leaf': 9, 'min_samples_split': 7, 'n_estimators': 574}. Best is trial 5 with value: 0.8913105413105413.\u001b[0m\n",
            "\u001b[32m[I 2021-06-29 09:09:16,883]\u001b[0m Trial 10 finished with value: 0.8947293447293447 and parameters: {'max_features': 0.9849414838205905, 'max_depth': 40, 'min_samples_leaf': 2, 'min_samples_split': 4, 'n_estimators': 988}. Best is trial 10 with value: 0.8947293447293447.\u001b[0m\n",
            "\u001b[32m[I 2021-06-29 09:09:39,024]\u001b[0m Trial 11 finished with value: 0.8950142450142451 and parameters: {'max_features': 0.9939328393679059, 'max_depth': 40, 'min_samples_leaf': 2, 'min_samples_split': 4, 'n_estimators': 998}. Best is trial 11 with value: 0.8950142450142451.\u001b[0m\n",
            "\u001b[32m[I 2021-06-29 09:10:01,173]\u001b[0m Trial 12 finished with value: 0.8948717948717949 and parameters: {'max_features': 0.9622884748396305, 'max_depth': 38, 'min_samples_leaf': 2, 'min_samples_split': 4, 'n_estimators': 988}. Best is trial 11 with value: 0.8950142450142451.\u001b[0m\n",
            "\u001b[32m[I 2021-06-29 09:10:22,442]\u001b[0m Trial 13 finished with value: 0.8911680911680913 and parameters: {'max_features': 0.8032763210885494, 'max_depth': 35, 'min_samples_leaf': 2, 'min_samples_split': 4, 'n_estimators': 971}. Best is trial 11 with value: 0.8950142450142451.\u001b[0m\n",
            "\u001b[32m[I 2021-06-29 09:10:30,903]\u001b[0m Trial 14 finished with value: 0.8837606837606838 and parameters: {'max_features': 0.9872335243131481, 'max_depth': 41, 'min_samples_leaf': 3, 'min_samples_split': 5, 'n_estimators': 353}. Best is trial 11 with value: 0.8950142450142451.\u001b[0m\n",
            "\u001b[32m[I 2021-06-29 09:10:50,495]\u001b[0m Trial 15 finished with value: 0.8457264957264957 and parameters: {'max_features': 0.7435870795082073, 'max_depth': 26, 'min_samples_leaf': 8, 'min_samples_split': 2, 'n_estimators': 894}. Best is trial 11 with value: 0.8950142450142451.\u001b[0m\n",
            "\u001b[32m[I 2021-06-29 09:11:11,517]\u001b[0m Trial 16 finished with value: 0.8837606837606838 and parameters: {'max_features': 0.677888917394939, 'max_depth': 27, 'min_samples_leaf': 3, 'min_samples_split': 4, 'n_estimators': 979}. Best is trial 11 with value: 0.8950142450142451.\u001b[0m\n",
            "\u001b[32m[I 2021-06-29 09:11:15,583]\u001b[0m Trial 17 finished with value: 0.8797720797720798 and parameters: {'max_features': 0.9994655425540866, 'max_depth': 43, 'min_samples_leaf': 3, 'min_samples_split': 5, 'n_estimators': 127}. Best is trial 11 with value: 0.8950142450142451.\u001b[0m\n",
            "\u001b[32m[I 2021-06-29 09:11:35,038]\u001b[0m Trial 18 finished with value: 0.8950142450142451 and parameters: {'max_features': 0.8952960900736856, 'max_depth': 36, 'min_samples_leaf': 2, 'min_samples_split': 3, 'n_estimators': 864}. Best is trial 11 with value: 0.8950142450142451.\u001b[0m\n",
            "\u001b[32m[I 2021-06-29 09:11:53,779]\u001b[0m Trial 19 finished with value: 0.8457264957264957 and parameters: {'max_features': 0.8341053114507052, 'max_depth': 31, 'min_samples_leaf': 8, 'min_samples_split': 3, 'n_estimators': 862}. Best is trial 11 with value: 0.8950142450142451.\u001b[0m\n",
            "\u001b[32m[I 2021-06-29 09:12:02,330]\u001b[0m Trial 20 finished with value: 0.8839031339031338 and parameters: {'max_features': 0.6463242287893965, 'max_depth': 20, 'min_samples_leaf': 4, 'min_samples_split': 3, 'n_estimators': 376}. Best is trial 11 with value: 0.8950142450142451.\u001b[0m\n",
            "\u001b[32m[I 2021-06-29 09:12:23,060]\u001b[0m Trial 21 finished with value: 0.8948717948717949 and parameters: {'max_features': 0.9252279599610643, 'max_depth': 36, 'min_samples_leaf': 2, 'min_samples_split': 5, 'n_estimators': 924}. Best is trial 11 with value: 0.8950142450142451.\u001b[0m\n",
            "\u001b[32m[I 2021-06-29 09:12:42,716]\u001b[0m Trial 22 finished with value: 0.8876068376068377 and parameters: {'max_features': 0.774519797529939, 'max_depth': 45, 'min_samples_leaf': 3, 'min_samples_split': 5, 'n_estimators': 899}. Best is trial 11 with value: 0.8950142450142451.\u001b[0m\n",
            "\u001b[32m[I 2021-06-29 09:13:05,015]\u001b[0m Trial 23 finished with value: 0.8947293447293447 and parameters: {'max_features': 0.9151079038646455, 'max_depth': 38, 'min_samples_leaf': 2, 'min_samples_split': 2, 'n_estimators': 991}. Best is trial 11 with value: 0.8950142450142451.\u001b[0m\n",
            "\u001b[32m[I 2021-06-29 09:13:23,257]\u001b[0m Trial 24 finished with value: 0.8837606837606838 and parameters: {'max_features': 0.8987928442803887, 'max_depth': 32, 'min_samples_leaf': 3, 'min_samples_split': 6, 'n_estimators': 792}. Best is trial 11 with value: 0.8950142450142451.\u001b[0m\n"
          ],
          "name": "stderr"
        }
      ]
    },
    {
      "cell_type": "code",
      "metadata": {
        "id": "HPtvHDmpj5Nu"
      },
      "source": [
        "p = study.best_params\n",
        "model_rf = RandomForestClassifier(**p)"
      ],
      "execution_count": 33,
      "outputs": []
    },
    {
      "cell_type": "code",
      "metadata": {
        "colab": {
          "base_uri": "https://localhost:8080/"
        },
        "id": "QTVioaVJnGaW",
        "outputId": "c456390b-c59f-49b8-e0eb-d0742415913a"
      },
      "source": [
        "evaluate_model(model_rf,X,Y)"
      ],
      "execution_count": 34,
      "outputs": [
        {
          "output_type": "stream",
          "text": [
            "Metrics\n",
            "**************************************************\n",
            "Accuracy        - 90.57\n",
            "Precision       - 93.75\n",
            "Recall          - 90.91\n",
            "F1 Score        - 92.31\n",
            "ROC AUC Score   - 90.45\n",
            "\n",
            "Confusion Matrix\n",
            "**************************************************\n",
            "[[18  3]\n",
            " [ 2 30]]\n",
            "\n",
            "\n",
            "Cross Validation Metrics\n",
            "**************************************************\n",
            "Accuracy        - 89.12\n",
            "Precision       - 97.86\n",
            "Recall          - 85.84\n",
            "F1 Score        - 90.91\n",
            "ROC AUC Score   - 91.67\n"
          ],
          "name": "stdout"
        }
      ]
    },
    {
      "cell_type": "code",
      "metadata": {
        "id": "edhsZ9m0prh-"
      },
      "source": [
        "filename = \"/content/drive/MyDrive/AR/model_rf.pkl\"  \n",
        "\n",
        "with open(filename, 'wb') as file:  \n",
        "    pickle.dump(model_rf, file)"
      ],
      "execution_count": 35,
      "outputs": []
    },
    {
      "cell_type": "code",
      "metadata": {
        "colab": {
          "base_uri": "https://localhost:8080/"
        },
        "id": "EiVRETS6nU5c",
        "outputId": "0b051b42-a4c7-4c5d-b4ea-d973e3823c9c"
      },
      "source": [
        "model_rf_bgg = BaggingClassifier(model_rf,n_estimators=10)\n",
        "\n",
        "evaluate_model(model_rf_bgg,X,Y)"
      ],
      "execution_count": 36,
      "outputs": [
        {
          "output_type": "stream",
          "text": [
            "Metrics\n",
            "**************************************************\n",
            "Accuracy        - 90.57\n",
            "Precision       - 96.88\n",
            "Recall          - 88.57\n",
            "F1 Score        - 92.54\n",
            "ROC AUC Score   - 91.51\n",
            "\n",
            "Confusion Matrix\n",
            "**************************************************\n",
            "[[17  4]\n",
            " [ 1 31]]\n",
            "\n",
            "\n",
            "Cross Validation Metrics\n",
            "**************************************************\n",
            "Accuracy        - 87.99\n",
            "Precision       - 97.86\n",
            "Recall          - 84.38\n",
            "F1 Score        - 90.04\n",
            "ROC AUC Score   - 90.89\n"
          ],
          "name": "stdout"
        }
      ]
    },
    {
      "cell_type": "code",
      "metadata": {
        "id": "4eKBsg9Gnzzl"
      },
      "source": [
        "filename = \"/content/drive/MyDrive/AR/model_rf_bgg.pkl\"  \n",
        "\n",
        "with open(filename, 'wb') as file:  \n",
        "    pickle.dump(model_rf_bgg, file)"
      ],
      "execution_count": 37,
      "outputs": []
    },
    {
      "cell_type": "code",
      "metadata": {
        "colab": {
          "base_uri": "https://localhost:8080/"
        },
        "id": "8CeCfYHLp8p3",
        "outputId": "b64d91ff-5969-485b-b922-41383f5e0d1c"
      },
      "source": [
        "def optimize(trial , x , y) :  \n",
        "    max_features = trial.suggest_uniform('max_features' , 0.01 , 1)\n",
        "    max_depth = trial.suggest_int('max_depth' , 3 , 100)\n",
        "    min_samples_leaf = trial.suggest_int('min_samples_leaf' , 2 , 10)\n",
        "    min_samples_split = trial.suggest_int('min_samples_split' , 2 , 100)\n",
        "    n_estimators = trial.suggest_int('n_estimators' , 100 , 2000)\n",
        "    model = ExtraTreesClassifier(\n",
        "        max_features = max_features ,\n",
        "        max_depth = max_depth ,\n",
        "        min_samples_leaf = min_samples_leaf ,\n",
        "        min_samples_split = min_samples_split ,\n",
        "        n_estimators = n_estimators ,\n",
        "        n_jobs = -1\n",
        "    )\n",
        "    kf = StratifiedKFold(n_splits = 10)\n",
        "    acc = []\n",
        "    for idx in kf.split(x , y) :   \n",
        "        train_idx , test_idx = idx[0] , idx[1]\n",
        "        x_train = x[train_idx]  \n",
        "        y_train = y[train_idx] \n",
        "        x_test = x[test_idx]\n",
        "        y_test = y[test_idx]\n",
        "        model.fit(x_train , y_train)\n",
        "        pred = model.predict(x_test)\n",
        "        fold_acc = accuracy_score(y_test , pred)\n",
        "        acc.append(fold_acc)\n",
        "    return np.mean(acc)\n",
        "\n",
        "\n",
        "optimization_function = partial(optimize , x = X , y = Y)\n",
        "\n",
        "study = optuna.create_study(direction = 'maximize')\n",
        "study.optimize(optimization_function , n_trials = 25)"
      ],
      "execution_count": 38,
      "outputs": [
        {
          "output_type": "stream",
          "text": [
            "\u001b[32m[I 2021-06-29 09:16:52,694]\u001b[0m A new study created in memory with name: no-name-24e2b441-6f67-46f5-adee-e2242dd94877\u001b[0m\n",
            "\u001b[32m[I 2021-06-29 09:16:57,923]\u001b[0m Trial 0 finished with value: 0.8108262108262109 and parameters: {'max_features': 0.04334899920963225, 'max_depth': 100, 'min_samples_leaf': 7, 'min_samples_split': 56, 'n_estimators': 303}. Best is trial 0 with value: 0.8108262108262109.\u001b[0m\n",
            "\u001b[32m[I 2021-06-29 09:17:03,916]\u001b[0m Trial 1 finished with value: 0.8074074074074075 and parameters: {'max_features': 0.7074270813514645, 'max_depth': 76, 'min_samples_leaf': 7, 'min_samples_split': 93, 'n_estimators': 324}. Best is trial 0 with value: 0.8108262108262109.\u001b[0m\n",
            "\u001b[32m[I 2021-06-29 09:17:16,838]\u001b[0m Trial 2 finished with value: 0.8643874643874645 and parameters: {'max_features': 0.8706385224330715, 'max_depth': 76, 'min_samples_leaf': 4, 'min_samples_split': 9, 'n_estimators': 758}. Best is trial 2 with value: 0.8643874643874645.\u001b[0m\n",
            "\u001b[32m[I 2021-06-29 09:17:22,795]\u001b[0m Trial 3 finished with value: 0.8074074074074075 and parameters: {'max_features': 0.6082313599752719, 'max_depth': 31, 'min_samples_leaf': 6, 'min_samples_split': 89, 'n_estimators': 320}. Best is trial 2 with value: 0.8643874643874645.\u001b[0m\n",
            "\u001b[32m[I 2021-06-29 09:17:41,571]\u001b[0m Trial 4 finished with value: 0.8226495726495727 and parameters: {'max_features': 0.2078503021765265, 'max_depth': 69, 'min_samples_leaf': 3, 'min_samples_split': 24, 'n_estimators': 1182}. Best is trial 2 with value: 0.8643874643874645.\u001b[0m\n",
            "\u001b[32m[I 2021-06-29 09:17:47,952]\u001b[0m Trial 5 finished with value: 0.8260683760683761 and parameters: {'max_features': 0.16700742962036844, 'max_depth': 68, 'min_samples_leaf': 9, 'min_samples_split': 11, 'n_estimators': 354}. Best is trial 2 with value: 0.8643874643874645.\u001b[0m\n",
            "\u001b[32m[I 2021-06-29 09:18:04,638]\u001b[0m Trial 6 finished with value: 0.7998575498575499 and parameters: {'max_features': 0.7490098196963495, 'max_depth': 75, 'min_samples_leaf': 9, 'min_samples_split': 88, 'n_estimators': 1048}. Best is trial 2 with value: 0.8643874643874645.\u001b[0m\n",
            "\u001b[32m[I 2021-06-29 09:18:19,104]\u001b[0m Trial 7 finished with value: 0.7994301994301993 and parameters: {'max_features': 0.2608730169074263, 'max_depth': 27, 'min_samples_leaf': 9, 'min_samples_split': 91, 'n_estimators': 917}. Best is trial 2 with value: 0.8643874643874645.\u001b[0m\n",
            "\u001b[32m[I 2021-06-29 09:18:25,256]\u001b[0m Trial 8 finished with value: 0.8111111111111111 and parameters: {'max_features': 0.9289829179967553, 'max_depth': 9, 'min_samples_leaf': 8, 'min_samples_split': 61, 'n_estimators': 324}. Best is trial 2 with value: 0.8643874643874645.\u001b[0m\n",
            "\u001b[32m[I 2021-06-29 09:18:56,135]\u001b[0m Trial 9 finished with value: 0.8185185185185185 and parameters: {'max_features': 0.5320981673972146, 'max_depth': 11, 'min_samples_leaf': 9, 'min_samples_split': 28, 'n_estimators': 1992}. Best is trial 2 with value: 0.8643874643874645.\u001b[0m\n",
            "\u001b[32m[I 2021-06-29 09:19:21,327]\u001b[0m Trial 10 finished with value: 0.8720797720797722 and parameters: {'max_features': 0.996706828990211, 'max_depth': 91, 'min_samples_leaf': 3, 'min_samples_split': 2, 'n_estimators': 1551}. Best is trial 10 with value: 0.8720797720797722.\u001b[0m\n",
            "\u001b[32m[I 2021-06-29 09:19:49,465]\u001b[0m Trial 11 finished with value: 0.8720797720797722 and parameters: {'max_features': 0.980850903445629, 'max_depth': 97, 'min_samples_leaf': 3, 'min_samples_split': 2, 'n_estimators': 1675}. Best is trial 10 with value: 0.8720797720797722.\u001b[0m\n",
            "\u001b[32m[I 2021-06-29 09:20:18,066]\u001b[0m Trial 12 finished with value: 0.8532763532763532 and parameters: {'max_features': 0.9889597234627752, 'max_depth': 100, 'min_samples_leaf': 2, 'min_samples_split': 36, 'n_estimators': 1750}. Best is trial 10 with value: 0.8720797720797722.\u001b[0m\n",
            "\u001b[32m[I 2021-06-29 09:20:42,658]\u001b[0m Trial 13 finished with value: 0.8643874643874645 and parameters: {'max_features': 0.9934689000823542, 'max_depth': 91, 'min_samples_leaf': 4, 'min_samples_split': 3, 'n_estimators': 1500}. Best is trial 10 with value: 0.8720797720797722.\u001b[0m\n",
            "\u001b[32m[I 2021-06-29 09:21:07,620]\u001b[0m Trial 14 finished with value: 0.8683760683760685 and parameters: {'max_features': 0.8184124931579152, 'max_depth': 53, 'min_samples_leaf': 2, 'min_samples_split': 2, 'n_estimators': 1494}. Best is trial 10 with value: 0.8720797720797722.\u001b[0m\n",
            "\u001b[32m[I 2021-06-29 09:21:38,268]\u001b[0m Trial 15 finished with value: 0.8112535612535613 and parameters: {'max_features': 0.33142322981758354, 'max_depth': 88, 'min_samples_leaf': 4, 'min_samples_split': 43, 'n_estimators': 1999}. Best is trial 10 with value: 0.8720797720797722.\u001b[0m\n",
            "\u001b[32m[I 2021-06-29 09:22:04,428]\u001b[0m Trial 16 finished with value: 0.8263532763532762 and parameters: {'max_features': 0.39309260178461947, 'max_depth': 90, 'min_samples_leaf': 5, 'min_samples_split': 17, 'n_estimators': 1628}. Best is trial 10 with value: 0.8720797720797722.\u001b[0m\n",
            "\u001b[32m[I 2021-06-29 09:22:26,235]\u001b[0m Trial 17 finished with value: 0.8495726495726496 and parameters: {'max_features': 0.6700005160315858, 'max_depth': 53, 'min_samples_leaf': 3, 'min_samples_split': 20, 'n_estimators': 1329}. Best is trial 10 with value: 0.8720797720797722.\u001b[0m\n",
            "\u001b[32m[I 2021-06-29 09:22:55,161]\u001b[0m Trial 18 finished with value: 0.8264957264957266 and parameters: {'max_features': 0.8194260906726757, 'max_depth': 99, 'min_samples_leaf': 2, 'min_samples_split': 71, 'n_estimators': 1827}. Best is trial 10 with value: 0.8720797720797722.\u001b[0m\n",
            "\u001b[32m[I 2021-06-29 09:23:17,352]\u001b[0m Trial 19 finished with value: 0.834045584045584 and parameters: {'max_features': 0.9721750493061403, 'max_depth': 41, 'min_samples_leaf': 5, 'min_samples_split': 34, 'n_estimators': 1339}. Best is trial 10 with value: 0.8720797720797722.\u001b[0m\n",
            "\u001b[32m[I 2021-06-29 09:23:46,041]\u001b[0m Trial 20 finished with value: 0.8645299145299147 and parameters: {'max_features': 0.4894489968246489, 'max_depth': 85, 'min_samples_leaf': 3, 'min_samples_split': 5, 'n_estimators': 1759}. Best is trial 10 with value: 0.8720797720797722.\u001b[0m\n",
            "\u001b[32m[I 2021-06-29 09:24:10,939]\u001b[0m Trial 21 finished with value: 0.8683760683760685 and parameters: {'max_features': 0.8347993100111807, 'max_depth': 57, 'min_samples_leaf': 2, 'min_samples_split': 2, 'n_estimators': 1496}. Best is trial 10 with value: 0.8720797720797722.\u001b[0m\n",
            "\u001b[32m[I 2021-06-29 09:24:36,783]\u001b[0m Trial 22 finished with value: 0.8797720797720798 and parameters: {'max_features': 0.9003238126452664, 'max_depth': 43, 'min_samples_leaf': 2, 'min_samples_split': 14, 'n_estimators': 1572}. Best is trial 22 with value: 0.8797720797720798.\u001b[0m\n",
            "\u001b[32m[I 2021-06-29 09:25:08,180]\u001b[0m Trial 23 finished with value: 0.8720797720797722 and parameters: {'max_features': 0.9060253219676511, 'max_depth': 40, 'min_samples_leaf': 3, 'min_samples_split': 15, 'n_estimators': 1960}. Best is trial 22 with value: 0.8797720797720798.\u001b[0m\n",
            "\u001b[32m[I 2021-06-29 09:25:34,932]\u001b[0m Trial 24 finished with value: 0.8378917378917379 and parameters: {'max_features': 0.9962807269075378, 'max_depth': 42, 'min_samples_leaf': 5, 'min_samples_split': 13, 'n_estimators': 1626}. Best is trial 22 with value: 0.8797720797720798.\u001b[0m\n"
          ],
          "name": "stderr"
        }
      ]
    },
    {
      "cell_type": "code",
      "metadata": {
        "id": "1_K2Ani4qNyW"
      },
      "source": [
        "p = study.best_params\n",
        "model_et = ExtraTreesClassifier(**p)"
      ],
      "execution_count": 39,
      "outputs": []
    },
    {
      "cell_type": "code",
      "metadata": {
        "colab": {
          "base_uri": "https://localhost:8080/"
        },
        "id": "l0j7q9p7qNwi",
        "outputId": "38324244-97bb-4637-e788-366628ecee78"
      },
      "source": [
        "evaluate_model(model_et,X,Y)"
      ],
      "execution_count": 40,
      "outputs": [
        {
          "output_type": "stream",
          "text": [
            "Metrics\n",
            "**************************************************\n",
            "Accuracy        - 88.68\n",
            "Precision       - 90.62\n",
            "Recall          - 90.62\n",
            "F1 Score        - 90.62\n",
            "ROC AUC Score   - 88.17\n",
            "\n",
            "Confusion Matrix\n",
            "**************************************************\n",
            "[[18  3]\n",
            " [ 3 29]]\n",
            "\n",
            "\n",
            "Cross Validation Metrics\n",
            "**************************************************\n",
            "Accuracy        - 87.98\n",
            "Precision       - 95.0\n",
            "Recall          - 86.13\n",
            "F1 Score        - 89.67\n",
            "ROC AUC Score   - 90.3\n"
          ],
          "name": "stdout"
        }
      ]
    },
    {
      "cell_type": "code",
      "metadata": {
        "id": "yBVFDOw6qNqf"
      },
      "source": [
        "filename = \"/content/drive/MyDrive/AR/model_et.pkl\"  \n",
        "\n",
        "with open(filename, 'wb') as file:  \n",
        "    pickle.dump(model_et, file)"
      ],
      "execution_count": 41,
      "outputs": []
    },
    {
      "cell_type": "code",
      "metadata": {
        "colab": {
          "base_uri": "https://localhost:8080/"
        },
        "id": "13wbrOdup8mc",
        "outputId": "e3c08d4c-2c32-4b07-a00a-72ba6a097344"
      },
      "source": [
        "model_et_bgg = BaggingClassifier(model_et,n_estimators=10)\n",
        "\n",
        "evaluate_model(model_et_bgg,X,Y)"
      ],
      "execution_count": 42,
      "outputs": [
        {
          "output_type": "stream",
          "text": [
            "Metrics\n",
            "**************************************************\n",
            "Accuracy        - 90.57\n",
            "Precision       - 93.75\n",
            "Recall          - 90.91\n",
            "F1 Score        - 92.31\n",
            "ROC AUC Score   - 90.45\n",
            "\n",
            "Confusion Matrix\n",
            "**************************************************\n",
            "[[18  3]\n",
            " [ 2 30]]\n",
            "\n",
            "\n",
            "Cross Validation Metrics\n",
            "**************************************************\n",
            "Accuracy        - 86.07\n",
            "Precision       - 93.52\n",
            "Recall          - 84.25\n",
            "F1 Score        - 87.95\n",
            "ROC AUC Score   - 88.56\n"
          ],
          "name": "stdout"
        }
      ]
    },
    {
      "cell_type": "code",
      "metadata": {
        "id": "rQ4n2HbWp8j0"
      },
      "source": [
        "filename = \"/content/drive/MyDrive/AR/model_et_bgg.pkl\"  \n",
        "\n",
        "with open(filename, 'wb') as file:  \n",
        "    pickle.dump(model_et_bgg, file)"
      ],
      "execution_count": 43,
      "outputs": []
    },
    {
      "cell_type": "code",
      "metadata": {
        "colab": {
          "base_uri": "https://localhost:8080/"
        },
        "id": "cORV27RTrdmh",
        "outputId": "a94a6a06-ea67-44af-b26e-dbfb64c621e1"
      },
      "source": [
        "estimators = [('rf',model_rf),('xgb',model_xgb)]\n",
        "final_estimator = model_et\n",
        "model_stacked = StackingClassifier(estimators=estimators,final_estimator=final_estimator)\n",
        "evaluate_model(model_stacked,X,Y)"
      ],
      "execution_count": 44,
      "outputs": [
        {
          "output_type": "stream",
          "text": [
            "Metrics\n",
            "**************************************************\n",
            "Accuracy        - 92.45\n",
            "Precision       - 90.62\n",
            "Recall          - 96.67\n",
            "F1 Score        - 93.55\n",
            "ROC AUC Score   - 91.81\n",
            "\n",
            "Confusion Matrix\n",
            "**************************************************\n",
            "[[20  1]\n",
            " [ 3 29]]\n",
            "\n",
            "\n",
            "Cross Validation Metrics\n",
            "**************************************************\n",
            "Accuracy        - 90.63\n",
            "Precision       - 94.29\n",
            "Recall          - 90.17\n",
            "F1 Score        - 91.78\n",
            "ROC AUC Score   - 91.45\n"
          ],
          "name": "stdout"
        }
      ]
    },
    {
      "cell_type": "code",
      "metadata": {
        "id": "anSxVzdysiLG"
      },
      "source": [
        "filename = \"/content/drive/MyDrive/AR/model_stacked.pkl\"  \n",
        "\n",
        "with open(filename, 'wb') as file:  \n",
        "    pickle.dump(model_stacked, file)"
      ],
      "execution_count": 45,
      "outputs": []
    },
    {
      "cell_type": "code",
      "metadata": {
        "colab": {
          "base_uri": "https://localhost:8080/"
        },
        "id": "bmarLimdT7D1",
        "outputId": "d6aa4ec1-1016-48a9-f447-84e5956eacc4"
      },
      "source": [
        "estimators = [('rf',model_rf),('xgb',model_xgb), ('et',model_et)]\n",
        "final_estimator = LogisticRegression()\n",
        "model_stacked = StackingClassifier(estimators=estimators,final_estimator=final_estimator)\n",
        "evaluate_model(model_stacked,X,Y)"
      ],
      "execution_count": 46,
      "outputs": [
        {
          "output_type": "stream",
          "text": [
            "Metrics\n",
            "**************************************************\n",
            "Accuracy        - 92.45\n",
            "Precision       - 90.62\n",
            "Recall          - 96.67\n",
            "F1 Score        - 93.55\n",
            "ROC AUC Score   - 91.81\n",
            "\n",
            "Confusion Matrix\n",
            "**************************************************\n",
            "[[20  1]\n",
            " [ 3 29]]\n",
            "\n",
            "\n",
            "Cross Validation Metrics\n",
            "**************************************************\n",
            "Accuracy        - 91.75\n",
            "Precision       - 95.71\n",
            "Recall          - 90.79\n",
            "F1 Score        - 92.82\n",
            "ROC AUC Score   - 92.6\n"
          ],
          "name": "stdout"
        }
      ]
    },
    {
      "cell_type": "code",
      "metadata": {
        "id": "53fbl3qpT-k0"
      },
      "source": [
        "filename = \"/content/drive/MyDrive/AR/model_stacked_lr.pkl\"  \n",
        "\n",
        "with open(filename, 'wb') as file:  \n",
        "    pickle.dump(model_stacked, file)"
      ],
      "execution_count": 47,
      "outputs": []
    },
    {
      "cell_type": "code",
      "metadata": {
        "colab": {
          "base_uri": "https://localhost:8080/"
        },
        "id": "Rl2XB3iKW8A4",
        "outputId": "5f439fd0-ac28-4771-ce7e-ab219f04d494"
      },
      "source": [
        "estimators = [('rf',model_rf),('et',model_et),('xgb',model_xgb)]\n",
        "model_voting = VotingClassifier(estimators=estimators,voting='soft',weights=[3,4,2])\n",
        "evaluate_model(model_voting,X,Y)"
      ],
      "execution_count": 48,
      "outputs": [
        {
          "output_type": "stream",
          "text": [
            "Metrics\n",
            "**************************************************\n",
            "Accuracy        - 90.57\n",
            "Precision       - 90.62\n",
            "Recall          - 93.55\n",
            "F1 Score        - 92.06\n",
            "ROC AUC Score   - 89.96\n",
            "\n",
            "Confusion Matrix\n",
            "**************************************************\n",
            "[[19  2]\n",
            " [ 3 29]]\n",
            "\n",
            "\n",
            "Cross Validation Metrics\n",
            "**************************************************\n",
            "Accuracy        - 91.0\n",
            "Precision       - 98.57\n",
            "Recall          - 87.87\n",
            "F1 Score        - 92.47\n",
            "ROC AUC Score   - 93.06\n"
          ],
          "name": "stdout"
        }
      ]
    },
    {
      "cell_type": "code",
      "metadata": {
        "id": "3qDe6rSKtI2D"
      },
      "source": [
        "filename = \"/content/drive/MyDrive/AR/model_voting.pkl\"  \n",
        "\n",
        "with open(filename, 'wb') as file:  \n",
        "    pickle.dump(model_voting, file)"
      ],
      "execution_count": 49,
      "outputs": []
    },
    {
      "cell_type": "code",
      "metadata": {
        "colab": {
          "base_uri": "https://localhost:8080/"
        },
        "id": "kUctkoP_tIzg",
        "outputId": "4124ca9a-e8ed-42d0-d783-c3191578cb35"
      },
      "source": [
        "estimators = [('rf_bgg',model_rf_bgg),('et_bgg',model_et_bgg),('xgb_bgg',model_xgb_bgg)]\n",
        "model_voting_bgg = VotingClassifier(estimators=estimators,voting='soft',weights=[2,4,1])\n",
        "evaluate_model(model_voting_bgg,X,Y)"
      ],
      "execution_count": 50,
      "outputs": [
        {
          "output_type": "stream",
          "text": [
            "Metrics\n",
            "**************************************************\n",
            "Accuracy        - 92.45\n",
            "Precision       - 96.88\n",
            "Recall          - 91.18\n",
            "F1 Score        - 93.94\n",
            "ROC AUC Score   - 92.96\n",
            "\n",
            "Confusion Matrix\n",
            "**************************************************\n",
            "[[18  3]\n",
            " [ 1 31]]\n",
            "\n",
            "\n",
            "Cross Validation Metrics\n",
            "**************************************************\n",
            "Accuracy        - 89.5\n",
            "Precision       - 97.86\n",
            "Recall          - 86.45\n",
            "F1 Score        - 91.22\n",
            "ROC AUC Score   - 91.99\n"
          ],
          "name": "stdout"
        }
      ]
    },
    {
      "cell_type": "code",
      "metadata": {
        "id": "cMwxpesdrdTc"
      },
      "source": [
        "filename = \"/content/drive/MyDrive/AR/model_voting_bgg.pkl\"  \n",
        "\n",
        "with open(filename, 'wb') as file:  \n",
        "    pickle.dump(model_voting_bgg, file)"
      ],
      "execution_count": 51,
      "outputs": []
    },
    {
      "cell_type": "code",
      "metadata": {
        "id": "XXpsu4xBrdJ0"
      },
      "source": [
        ""
      ],
      "execution_count": null,
      "outputs": []
    },
    {
      "cell_type": "code",
      "metadata": {
        "id": "WrvjBSq2rdHh"
      },
      "source": [
        ""
      ],
      "execution_count": null,
      "outputs": []
    },
    {
      "cell_type": "code",
      "metadata": {
        "id": "d6A6w6-TrdEB"
      },
      "source": [
        ""
      ],
      "execution_count": null,
      "outputs": []
    },
    {
      "cell_type": "code",
      "metadata": {
        "id": "B6UbzZAwrdAx"
      },
      "source": [
        ""
      ],
      "execution_count": null,
      "outputs": []
    }
  ]
}